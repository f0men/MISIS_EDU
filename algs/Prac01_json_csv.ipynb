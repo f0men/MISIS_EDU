{
  "nbformat": 4,
  "nbformat_minor": 0,
  "metadata": {
    "colab": {
      "provenance": []
    },
    "kernelspec": {
      "name": "python3",
      "display_name": "Python 3"
    },
    "language_info": {
      "name": "python"
    }
  },
  "cells": [
    {
      "cell_type": "markdown",
      "source": [
        "# Задачи:\n",
        "\n",
        "**JSON**\n",
        "\n",
        "\n",
        "1.   Создание JSON-объекта\n",
        "\n",
        "Создайте словарь с информацией о студенте (имя, возраст, оценки) и преобразуйте его в JSON-формат. Выведите результат в консоль.\n",
        "\n",
        "2.   Чтение JSON-файла\n",
        "\n",
        "Дан файл data.json со следующей структурой:\n",
        "```\n",
        "{\n",
        "    \"name\": \"Иван\",\n",
        "    \"age\": 20,\n",
        "    \"courses\": [\"Математика\", \"Физика\"]\n",
        "}\n",
        "```\n",
        "Напишите программу, которая прочитает файл и выведет имя студента.\n",
        "\n",
        "\n",
        "3.   Модификация данных\n",
        "\n",
        "Добавьте в JSON-объект новое поле email и обновите файл на диске.\n",
        "\n",
        "4.   Работа с массивами\n",
        "\n",
        "Создайте JSON-файл, содержащий список словарей с информацией о книгах (название, автор, год издания). Добавьте функцию для поиска книг по автору.\n",
        "\n",
        "5.   Обработка ошибок\n",
        "\n",
        "Напишите программу, которая пытается прочитать JSON-файл и обрабатывает возможные ошибки (файл не найден, некорректный формат).\n",
        "\n",
        "6.   Преобразование данных\n",
        "\n",
        "Преобразуйте JSON-объект, содержащий список температур за месяц, в словарь, где ключами будут даты, а значениями — температуры.\n",
        "\n",
        "7.   Вложенные структуры\n",
        "\n",
        "Создайте JSON-объект, представляющий каталог товаров с вложенной структурой (категория → подкатегория → товары). Реализуйте поиск товара по названию.\n",
        "\n",
        "# **Доп. баллы**\n",
        "\n",
        "8.   Оптимизация хранения\\\n",
        "\n",
        "Реализуйте сжатие JSON-данных перед сохранением в файл и их распаковку при чтении.\n",
        "\n",
        "9.   Валидация данных\n",
        "\n",
        "Напишите функцию для проверки корректности JSON-структуры по заданному шаблону (например, проверка наличия обязательных полей).\n",
        "\n",
        "\n",
        "\n",
        "**CSV**\n",
        "\n",
        "\n",
        "\n",
        "1.   Чтение CSV файла\n",
        "\n",
        "Написать программу, которая читает CSV файл со списком студентов и их оценок, выводит содержимое на экран.\n",
        "\n",
        "```\n",
        "Имя,Оценка\n",
        "Анна,5\n",
        "Борис,4\n",
        "Виктор,5\n",
        "\n",
        "```\n",
        "\n",
        "2.   Запись в CSV\n",
        "\n",
        "Создать программу, которая записывает список словарей с информацией о книгах в CSV файл.\n",
        "\n",
        "```python\n",
        "books = [\n",
        "    {'title': 'Война и мир', 'author': 'Толстой', 'year': 1869},\n",
        "    {'title': '1984', 'author': 'Оруэлл', 'year': 1949}\n",
        "]\n",
        "```\n",
        "\n",
        "3.   Фильтрация данных\n",
        "\n",
        "Написать программу, которая фильтрует CSV файл с данными о продажах, оставляя только записи с суммой больше 1000 рублей.\n",
        "\n",
        "```\n",
        "Дата,Товар,Сумма\n",
        "01.01.2023,Телефон,1200\n",
        "02.01.2023,Ручка,100\n",
        "03.01.2023,Ноутбук,15000\n",
        "\n",
        "```\n",
        "\n",
        "4.   Подсчет статистики\n",
        "\n",
        "Создать программу, которая подсчитывает среднюю оценку по предмету из CSV файла с оценками студентов.\n",
        "\n",
        "```\n",
        "Студент,Математика,Физика,Химия\n",
        "Анна,5,4,5\n",
        "Борис,4,3,4\n",
        "Виктор,5,5,5\n",
        "\n",
        "```\n",
        "\n",
        "5.   Объединение CSV файлов\n",
        "\n",
        "Написать программу, которая объединяет несколько CSV файлов с одинаковыми заголовками в один файл.\n",
        "\n",
        "```\n",
        "# file1.csv\n",
        "ID,Имя,Возраст\n",
        "1,Анна,20\n",
        "2,Борис,22\n",
        "\n",
        "# file2.csv\n",
        "ID,Имя,Возраст\n",
        "3,Виктор,21\n",
        "4,Галина,19\n",
        "\n",
        "```\n",
        "\n",
        "# **Доп. баллы**\n",
        "\n",
        "6.   Генерация данных\n",
        "\n",
        "Сгенерируйте файл csv более 1 млн строк с похожей структурой данных, запишите полученные данные CSV файл.\n",
        "\n",
        "```\n",
        "Город,Население\n",
        "Москва,12000000\n",
        "Санкт-Петербург,5000000\n",
        "Новосибирск,1600000\n",
        "\n",
        "```\n",
        "7.   Обработка больших данных\n",
        "\n",
        "Создать программу, которая обрабатывает большой CSV файл (более 1 млн строк) и находит топ-10 самых частых значений в определенном столбце.\n",
        "\n",
        "Данные взять из предыдущего задания (6-е задание)"
      ],
      "metadata": {
        "id": "iBpx_BpSamjr"
      }
    },
    {
      "cell_type": "markdown",
      "source": [
        "# Библиотеки  "
      ],
      "metadata": {
        "id": "6GQULAhMbNsJ"
      }
    },
    {
      "cell_type": "code",
      "source": [
        "import os\n",
        "\n",
        "import json, csv, pickle\n",
        "\n",
        "import pandas as pd"
      ],
      "metadata": {
        "id": "Zpb50mznbiE0"
      },
      "execution_count": 157,
      "outputs": []
    },
    {
      "cell_type": "markdown",
      "source": [
        "# JSON"
      ],
      "metadata": {
        "id": "5euJRE30vidF"
      }
    },
    {
      "cell_type": "code",
      "source": [
        "dir(json)"
      ],
      "metadata": {
        "colab": {
          "base_uri": "https://localhost:8080/"
        },
        "id": "K9gBuBQ2cZbM",
        "outputId": "48bf2f69-8c83-4464-b93b-5eefb1613eb9"
      },
      "execution_count": 17,
      "outputs": [
        {
          "output_type": "execute_result",
          "data": {
            "text/plain": [
              "['JSONDecodeError',\n",
              " 'JSONDecoder',\n",
              " 'JSONEncoder',\n",
              " '__all__',\n",
              " '__author__',\n",
              " '__builtins__',\n",
              " '__cached__',\n",
              " '__doc__',\n",
              " '__file__',\n",
              " '__loader__',\n",
              " '__name__',\n",
              " '__package__',\n",
              " '__path__',\n",
              " '__spec__',\n",
              " '__version__',\n",
              " '_default_decoder',\n",
              " '_default_encoder',\n",
              " 'codecs',\n",
              " 'decoder',\n",
              " 'detect_encoding',\n",
              " 'dump',\n",
              " 'dumps',\n",
              " 'encoder',\n",
              " 'load',\n",
              " 'loads',\n",
              " 'scanner']"
            ]
          },
          "metadata": {},
          "execution_count": 17
        }
      ]
    },
    {
      "cell_type": "markdown",
      "source": [
        "1. Создание JSON-объекта\n",
        "Создайте словарь с информацией о студенте (имя, возраст, оценки) и преобразуйте его в JSON-формат. Выведите результат в консоль."
      ],
      "metadata": {
        "id": "qgyhXJ8KaqsT"
      }
    },
    {
      "cell_type": "code",
      "source": [
        "dict_student = {\n",
        "    'name': 'Egor',\n",
        "    'age': 22,\n",
        "    'marks': [5, 5, 5]\n",
        "}"
      ],
      "metadata": {
        "id": "yjvK08E5bfss"
      },
      "execution_count": 18,
      "outputs": []
    },
    {
      "cell_type": "code",
      "source": [
        "json.dumps(dict_student)"
      ],
      "metadata": {
        "colab": {
          "base_uri": "https://localhost:8080/",
          "height": 35
        },
        "id": "VAhog3fTbMNc",
        "outputId": "5b1d462c-7135-4a7d-da49-45a3c8c72994"
      },
      "execution_count": 22,
      "outputs": [
        {
          "output_type": "execute_result",
          "data": {
            "text/plain": [
              "'{\"name\": \"Egor\", \"age\": 22, \"marks\": [5, 5, 5]}'"
            ],
            "application/vnd.google.colaboratory.intrinsic+json": {
              "type": "string"
            }
          },
          "metadata": {},
          "execution_count": 22
        }
      ]
    },
    {
      "cell_type": "markdown",
      "source": [
        "Чтение JSON-файла\n",
        "Дан файл data.json со следующей структурой:\n",
        "\n",
        "\n",
        "{\n",
        "    \"name\": \"Иван\",\n",
        "    \"age\": 20,\n",
        "    \"courses\": [\"Математика\", \"Физика\"]\n",
        "}\n",
        "\n",
        "Напишите программу, которая прочитает файл и выведет имя студента."
      ],
      "metadata": {
        "id": "vXuYP0VBcpf2"
      }
    },
    {
      "cell_type": "code",
      "source": [
        "def read_idx(\n",
        "    path: str,\n",
        "    needs_idx: str\n",
        ") -> str:\n",
        "  with open(path, 'r') as file:\n",
        "    student = json.load(file)\n",
        "  return student[needs_idx]\n"
      ],
      "metadata": {
        "id": "9cNPRHuHcJ0n"
      },
      "execution_count": 30,
      "outputs": []
    },
    {
      "cell_type": "code",
      "source": [
        "read_idx('/content/data.json', 'name')"
      ],
      "metadata": {
        "colab": {
          "base_uri": "https://localhost:8080/",
          "height": 35
        },
        "id": "Mlxa0NelfJVu",
        "outputId": "e8f1a31b-059e-4546-c63f-edbe9f8bafb9"
      },
      "execution_count": 31,
      "outputs": [
        {
          "output_type": "execute_result",
          "data": {
            "text/plain": [
              "'Иван'"
            ],
            "application/vnd.google.colaboratory.intrinsic+json": {
              "type": "string"
            }
          },
          "metadata": {},
          "execution_count": 31
        }
      ]
    },
    {
      "cell_type": "markdown",
      "source": [
        "3. Добавьте в JSON-объект новое поле email и обновите файл на диске."
      ],
      "metadata": {
        "id": "zpWuBZ2Dfv5m"
      }
    },
    {
      "cell_type": "code",
      "source": [
        "with open('/content/data.json', 'r') as file:\n",
        "    student_data = json.load(file)\n",
        "\n",
        "student_data['email'] = 'ivan@example.com'\n",
        "\n",
        "with open('/content/data.json', 'w') as file:\n",
        "    json.dump(student_data, file, indent=4)"
      ],
      "metadata": {
        "id": "hmwIHpg6gTf9"
      },
      "execution_count": 28,
      "outputs": []
    },
    {
      "cell_type": "code",
      "source": [
        "read_idx('/content/data.json', 'email')"
      ],
      "metadata": {
        "colab": {
          "base_uri": "https://localhost:8080/",
          "height": 35
        },
        "id": "cznPXAAygQaL",
        "outputId": "728dbfef-21c8-480b-d69f-e5f26cfccb7b"
      },
      "execution_count": 32,
      "outputs": [
        {
          "output_type": "execute_result",
          "data": {
            "text/plain": [
              "'ivan@example.com'"
            ],
            "application/vnd.google.colaboratory.intrinsic+json": {
              "type": "string"
            }
          },
          "metadata": {},
          "execution_count": 32
        }
      ]
    },
    {
      "cell_type": "markdown",
      "source": [
        "4. Работа с массивами\n",
        "Создайте JSON-файл, содержащий список словарей с информацией о книгах (название, автор, год издания). Добавьте функцию для поиска книг по автору."
      ],
      "metadata": {
        "id": "VYtqRm-qgjEU"
      }
    },
    {
      "cell_type": "code",
      "source": [
        "books_data = [\n",
        "    {\"name\": \"Морфий\", \"author\": \"Михаил Булгаков\", \"year\": 1919},\n",
        "    {\"name\": \"Преступление и наказание\", \"author\": \"Федор Достоевский\", \"year\": 1866},\n",
        "    {\"name\": \"Евгений Онегин\", \"author\": \"Александр Пушкин\", \"year\": 1833},\n",
        "    {\"name\": \"Мастер и Маргарита\", \"author\": \"Михаил Булгаков\", \"year\": 1929}\n",
        "]"
      ],
      "metadata": {
        "id": "55ned5jGhFiw"
      },
      "execution_count": 63,
      "outputs": []
    },
    {
      "cell_type": "code",
      "source": [
        "with open('books.json', 'w', encoding='utf-8') as f:\n",
        "    json.dump(books_data, f)"
      ],
      "metadata": {
        "id": "jJBsBqwchb8T"
      },
      "execution_count": 64,
      "outputs": []
    },
    {
      "cell_type": "code",
      "source": [
        "def find_books(\n",
        "    file_path: str,\n",
        "    author_name: str\n",
        "    ) -> list:\n",
        "\n",
        "     ''' порядок author_name - Имя, Фамилия '''\n",
        "     with open(file_path, 'r', encoding='utf-8') as f:\n",
        "        books = json.load(f)\n",
        "     found_books = [book for book in books if book['author'] == author_name]\n",
        "     return found_books"
      ],
      "metadata": {
        "id": "tXkS8yiEhJDC"
      },
      "execution_count": 65,
      "outputs": []
    },
    {
      "cell_type": "code",
      "source": [
        "find_books('/content/books.json', 'Михаил Булгаков')"
      ],
      "metadata": {
        "colab": {
          "base_uri": "https://localhost:8080/"
        },
        "id": "IZItp0Jhhsfh",
        "outputId": "9655abce-f355-4413-b6ec-5c08daaf5153"
      },
      "execution_count": 66,
      "outputs": [
        {
          "output_type": "execute_result",
          "data": {
            "text/plain": [
              "[{'name': 'Морфий', 'author': 'Михаил Булгаков', 'year': 1919},\n",
              " {'name': 'Мастер и Маргарита', 'author': 'Михаил Булгаков', 'year': 1929}]"
            ]
          },
          "metadata": {},
          "execution_count": 66
        }
      ]
    },
    {
      "cell_type": "markdown",
      "source": [
        "5. Обработка ошибок\n",
        "Напишите программу, которая пытается прочитать JSON-файл и обрабатывает возможные ошибки (файл не найден, некорректный формат)."
      ],
      "metadata": {
        "id": "09q-vUf8jQJc"
      }
    },
    {
      "cell_type": "code",
      "source": [
        "def read_json_with_error(\n",
        "    file_path: str\n",
        "    ) -> str:\n",
        "    try:\n",
        "        with open(file_path, 'r', encoding='utf-8') as f:\n",
        "            data = json.load(f)\n",
        "            return data\n",
        "    except FileNotFoundError:\n",
        "        return 'Такого файлика нет, проверь диеркторию)'\n",
        "    except json.JSONDecodeError:\n",
        "        return 'Некорректный формат'"
      ],
      "metadata": {
        "id": "Qwnlq2FFjZ6c"
      },
      "execution_count": 74,
      "outputs": []
    },
    {
      "cell_type": "markdown",
      "source": [
        "6. Преобразуйте JSON-объект, содержащий список температур за месяц, в словарь, где ключами будут даты, а значениями — температуры."
      ],
      "metadata": {
        "id": "x9vSr5h1kf4u"
      }
    },
    {
      "cell_type": "code",
      "source": [
        "import json\n",
        "\n",
        "temperatures_list_json = '''\n",
        "[\n",
        "    {\"date\": \"2023-10-01\", \"temperature\": 15},\n",
        "    {\"date\": \"2023-10-02\", \"temperature\": 16},\n",
        "    {\"date\": \"2023-10-03\", \"temperature\": 14},\n",
        "    {\"date\": \"2023-10-04\", \"temperature\": 17},\n",
        "    {\"date\": \"2023-10-05\", \"temperature\": 18}\n",
        "]\n",
        "'''\n",
        "\n",
        "temperatures_list = json.loads(temperatures_list_json)\n",
        "\n",
        "temperatures_dict = {item['date']: item['temperature'] for item in temperatures_list}\n",
        "\n",
        "print(temperatures_dict)"
      ],
      "metadata": {
        "colab": {
          "base_uri": "https://localhost:8080/"
        },
        "id": "sEbr4kVbk_Wu",
        "outputId": "30607f86-4f64-4935-a7b1-1b12901f86c7"
      },
      "execution_count": 77,
      "outputs": [
        {
          "output_type": "stream",
          "name": "stdout",
          "text": [
            "{'2023-10-01': 15, '2023-10-02': 16, '2023-10-03': 14, '2023-10-04': 17, '2023-10-05': 18}\n"
          ]
        }
      ]
    },
    {
      "cell_type": "markdown",
      "source": [
        "7. Вложенные структуры\n",
        "Создайте JSON-объект, представляющий каталог товаров с вложенной структурой (категория → подкатегория → товары). Реализуйте поиск товара по названию."
      ],
      "metadata": {
        "id": "NhnCCfKLltqI"
      }
    },
    {
      "cell_type": "code",
      "source": [
        "catalog = {\n",
        "    \"electronics\": {\n",
        "        \"smartphones\": [\n",
        "            {\"name\": \"iPhone 13\", \"brand\": \"Apple\", \"price\": 999},\n",
        "            {\"name\": \"Samsung Galaxy S21\", \"brand\": \"Samsung\", \"price\": 799}\n",
        "        ],\n",
        "        \"laptops\": [\n",
        "            {\"name\": \"MacBook Air\", \"brand\": \"Apple\", \"price\": 1199},\n",
        "            {\"name\": \"Dell XPS 15\", \"brand\": \"Dell\", \"price\": 1499}\n",
        "        ]\n",
        "    },\n",
        "    \"clothes\": {\n",
        "        \"male\": [\n",
        "            {\"name\": \"t-shirt\", \"brand\": \"Nike\", \"price\": 25},\n",
        "            {\"name\": \"jeans\", \"brand\": \"Levi's\", \"price\": 60}\n",
        "        ],\n",
        "        \"female\": [\n",
        "            {\"name\": \"dress\", \"brand\": \"Zara\", \"price\": 50},\n",
        "            {\"name\": \"blouse\", \"brand\": \"H&M\", \"price\": 30}\n",
        "        ]\n",
        "    }\n",
        "}\n"
      ],
      "metadata": {
        "id": "DUSz_Pu5jwU0"
      },
      "execution_count": 95,
      "outputs": []
    },
    {
      "cell_type": "code",
      "source": [
        "def find_product_by_name(\n",
        "    catalog_data: str,\n",
        "    product_name: str) -> list:\n",
        "    found_products = []\n",
        "    for category, subcategories in catalog_data.items():\n",
        "        for subcategory, products in subcategories.items():\n",
        "            for product in products:\n",
        "                if product['name'].lower() == product_name.lower():\n",
        "                    found_products.append(product)\n",
        "    return found_products"
      ],
      "metadata": {
        "id": "koJUF6BVpeRD"
      },
      "execution_count": 98,
      "outputs": []
    },
    {
      "cell_type": "code",
      "source": [
        "find_product_by_name(catalog, 'iPhone 13')"
      ],
      "metadata": {
        "colab": {
          "base_uri": "https://localhost:8080/"
        },
        "id": "8nPLRXilnIOZ",
        "outputId": "d45076f4-9a0c-4ba0-db95-a8e3674e1cf9"
      },
      "execution_count": 99,
      "outputs": [
        {
          "output_type": "execute_result",
          "data": {
            "text/plain": [
              "[{'name': 'iPhone 13', 'brand': 'Apple', 'price': 999}]"
            ]
          },
          "metadata": {},
          "execution_count": 99
        }
      ]
    },
    {
      "cell_type": "markdown",
      "source": [
        "8. Оптимизация хранения\\\n",
        "Реализуйте сжатие JSON-данных перед сохранением в файл и их распаковку при чтении."
      ],
      "metadata": {
        "id": "NoJ24n5yoIZc"
      }
    },
    {
      "cell_type": "markdown",
      "source": [
        "Как один из вариантов для сжатия можно использовать формат pickle"
      ],
      "metadata": {
        "id": "okfbFF78opL8"
      }
    },
    {
      "cell_type": "code",
      "source": [
        "data = '''\n",
        "{\n",
        "    \"name\": \"\\u0418\\u0432\\u0430\\u043d\",\n",
        "    \"age\": 20,\n",
        "    \"courses\": [\n",
        "        \"\\u041c\\u0430\\u0442\\u0435\\u043c\\u0430\\u0442\\u0438\\u043a\\u0430\",\n",
        "        \"\\u0424\\u0438\\u0437\\u0438\\u043a\\u0430\"\n",
        "    ],\n",
        "    \"email\": \"ivan@example.com\"\n",
        "}\n",
        "'''"
      ],
      "metadata": {
        "id": "3E_q4yu-rijW"
      },
      "execution_count": 121,
      "outputs": []
    },
    {
      "cell_type": "code",
      "source": [
        "with open('data_pickle', 'wb') as f:\n",
        "    pickle.dump(data, f)"
      ],
      "metadata": {
        "id": "6GAGgHTAo-hT"
      },
      "execution_count": 122,
      "outputs": []
    },
    {
      "cell_type": "code",
      "source": [
        "print(f\"json file size: {os.path.getsize('/content/data.json')} bytes\")"
      ],
      "metadata": {
        "colab": {
          "base_uri": "https://localhost:8080/"
        },
        "id": "dUga7GcdsVwm",
        "outputId": "74d6295c-e7fe-4148-da6b-883606ede6b3"
      },
      "execution_count": 127,
      "outputs": [
        {
          "output_type": "stream",
          "name": "stdout",
          "text": [
            "json file size: 233 bytes\n"
          ]
        }
      ]
    },
    {
      "cell_type": "code",
      "source": [
        "print(f\"pickle file size: {os.path.getsize('/content/data_pickle')} bytes\")"
      ],
      "metadata": {
        "colab": {
          "base_uri": "https://localhost:8080/"
        },
        "id": "ytO5HvXLrSJz",
        "outputId": "dd547f8a-4957-49e8-81f8-8d404ffc2787"
      },
      "execution_count": 128,
      "outputs": [
        {
          "output_type": "stream",
          "name": "stdout",
          "text": [
            "pickle file size: 170 bytes\n"
          ]
        }
      ]
    },
    {
      "cell_type": "markdown",
      "source": [
        "9. Напишите функцию для проверки корректности JSON-структуры по заданному шаблону (например, проверка наличия обязательных полей"
      ],
      "metadata": {
        "id": "fFo9mnB2tHzV"
      }
    },
    {
      "cell_type": "code",
      "source": [
        "def validate_json_structure(\n",
        "                            json_data,\n",
        "                            required_fields: list):\n",
        "    if not isinstance(json_data, dict):\n",
        "        print(\"Error: Input data is not a dictionary.\")\n",
        "        return False\n",
        "\n",
        "    is_valid = True\n",
        "    for field in required_fields:\n",
        "        if field not in json_data:\n",
        "            print(f\"Error: Required field '{field}' is missing.\")\n",
        "            is_valid = False\n",
        "    return is_valid"
      ],
      "metadata": {
        "id": "InaQUcwCue_N"
      },
      "execution_count": 137,
      "outputs": []
    },
    {
      "cell_type": "code",
      "source": [
        "valid_data = {\n",
        "    \"name\": \"Alice\",\n",
        "    \"age\": 30,\n",
        "    \"city\": \"New York\"\n",
        "}\n",
        "required_fields_example = [\"name\", \"age\", \"city\"]\n",
        "\n",
        "print(\"--- Example 1: Valid Data ---\")\n",
        "is_valid = validate_json_structure(valid_data, required_fields_example)\n",
        "print(f\"Is the data valid? {is_valid}\")"
      ],
      "metadata": {
        "colab": {
          "base_uri": "https://localhost:8080/"
        },
        "id": "r3MeZd2Fu0wd",
        "outputId": "fa513890-59f0-4fe8-c166-4c04c6aeeeb6"
      },
      "execution_count": 138,
      "outputs": [
        {
          "output_type": "stream",
          "name": "stdout",
          "text": [
            "--- Example 1: Valid Data ---\n",
            "Is the data valid? True\n"
          ]
        }
      ]
    },
    {
      "cell_type": "code",
      "source": [
        "invalid_data_missing = {\n",
        "    \"name\": \"Bob\",\n",
        "    \"city\": \"London\"\n",
        "}\n",
        "\n",
        "print(\"\\n--- Example 2: Data with Missing Field ---\")\n",
        "is_valid_missing = validate_json_structure(invalid_data_missing, required_fields_example)\n",
        "print(f\"Is the data valid? {is_valid_missing}\")"
      ],
      "metadata": {
        "colab": {
          "base_uri": "https://localhost:8080/"
        },
        "id": "V_v7_ZmcvVNi",
        "outputId": "800c9d13-4761-4636-b240-1df3874b88dd"
      },
      "execution_count": 139,
      "outputs": [
        {
          "output_type": "stream",
          "name": "stdout",
          "text": [
            "\n",
            "--- Example 2: Data with Missing Field ---\n",
            "Error: Required field 'age' is missing.\n",
            "Is the data valid? False\n"
          ]
        }
      ]
    },
    {
      "cell_type": "code",
      "source": [
        "\n",
        "invalid_data_type = \"This is not a dictionary\"\n",
        "\n",
        "print(\"\\n--- Example 3: Invalid Data Type ---\")\n",
        "is_valid_type = validate_json_structure(invalid_data_type, required_fields_example)\n",
        "print(f\"Is the data valid? {is_valid_type}\")"
      ],
      "metadata": {
        "colab": {
          "base_uri": "https://localhost:8080/"
        },
        "id": "sZ8BpAWVvXGT",
        "outputId": "bcc6b75f-1c95-45b7-fe18-05097f84b626"
      },
      "execution_count": 140,
      "outputs": [
        {
          "output_type": "stream",
          "name": "stdout",
          "text": [
            "\n",
            "--- Example 3: Invalid Data Type ---\n",
            "Error: Input data is not a dictionary.\n",
            "Is the data valid? False\n"
          ]
        }
      ]
    },
    {
      "cell_type": "markdown",
      "source": [
        "# CSV"
      ],
      "metadata": {
        "id": "LPRYf_itvflO"
      }
    },
    {
      "cell_type": "markdown",
      "source": [
        "1. Написать программу, которая читает CSV файл со списком студентов и их оценок, выводит содержимое на экран."
      ],
      "metadata": {
        "id": "duAuv3bvwj0v"
      }
    },
    {
      "cell_type": "code",
      "source": [
        "csv_data = \"\"\"Имя,Оценка\n",
        "Анна,5\n",
        "Борис,4\n",
        "Виктор,5\n",
        "\"\"\"\n",
        "\n",
        "with open('students_grades.csv', 'w', newline='', encoding='utf-8') as csvfile:\n",
        "    csvfile.write(csv_data)\n",
        "\n",
        "with open('students_grades.csv', mode='r', newline='', encoding='utf-8') as csvfile:\n",
        "    csv_reader = csv.reader(csvfile)\n",
        "    for row in csv_reader:\n",
        "        print(', '.join(row))"
      ],
      "metadata": {
        "colab": {
          "base_uri": "https://localhost:8080/"
        },
        "id": "sKxB-IPfwekG",
        "outputId": "84a2982d-7a4c-4823-e730-582df77f2b5b"
      },
      "execution_count": 142,
      "outputs": [
        {
          "output_type": "stream",
          "name": "stdout",
          "text": [
            "Имя, Оценка\n",
            "Анна, 5\n",
            "Борис, 4\n",
            "Виктор, 5\n"
          ]
        }
      ]
    },
    {
      "cell_type": "markdown",
      "source": [
        "2. Создать программу, которая записывает список словарей с информацией о книгах в CSV файл."
      ],
      "metadata": {
        "id": "OOrDu18dx6Sd"
      }
    },
    {
      "cell_type": "code",
      "source": [
        "import csv\n",
        "\n",
        "books = [\n",
        "    {'title': 'Война и мир', 'author': 'Толстой', 'year': 1869},\n",
        "    {'title': '1984', 'author': 'Оруэлл', 'year': 1949}\n",
        "]\n",
        "csv_filename = 'books.csv'\n",
        "\n",
        "with open(csv_filename, 'w', newline='', encoding='utf-8') as csvfile:\n",
        "\n",
        "    fieldnames = ['title', 'author', 'year']\n",
        "    writer = csv.DictWriter(csvfile, fieldnames=fieldnames)\n",
        "\n",
        "\n",
        "    writer.writeheader()\n",
        "\n",
        "    writer.writerows(books)\n",
        "\n",
        "print(f\"Book information successfully written to '{csv_filename}'\")\n"
      ],
      "metadata": {
        "colab": {
          "base_uri": "https://localhost:8080/"
        },
        "id": "_Tsefq82yDF2",
        "outputId": "9477f8b1-5fc9-46c8-956b-340fcef5d694"
      },
      "execution_count": 145,
      "outputs": [
        {
          "output_type": "stream",
          "name": "stdout",
          "text": [
            "Book information successfully written to 'books.csv'\n"
          ]
        }
      ]
    },
    {
      "cell_type": "markdown",
      "source": [
        "3. Написать программу, которая фильтрует CSV файл с данными о продажах, оставляя только записи с суммой больше 1000 рублей."
      ],
      "metadata": {
        "id": "PE1uUW9aynUN"
      }
    },
    {
      "cell_type": "code",
      "source": [
        "\n",
        "csv_data_string = \"\"\"Дата,Товар,Сумма\n",
        "01.01.2023,Телефон,1200\n",
        "02.01.2023,Ручка,100\n",
        "03.01.2023,Ноутбук,15000\n",
        "04.01.2023,Книга,500\n",
        "05.01.2023,Планшет,3000\n",
        "\"\"\"\n",
        "\n",
        "csv_filename = 'sales_data.csv'\n"
      ],
      "metadata": {
        "id": "t71ITEp_yeI_"
      },
      "execution_count": 154,
      "outputs": []
    },
    {
      "cell_type": "code",
      "source": [
        "with open(csv_filename, 'w', newline='', encoding='utf-8') as csvfile:\n",
        "    csvfile.write(csv_data_string)\n",
        "\n",
        "filtered_data = []\n",
        "header = []\n"
      ],
      "metadata": {
        "id": "XKPzenj9za0u"
      },
      "execution_count": 155,
      "outputs": []
    },
    {
      "cell_type": "code",
      "source": [
        "with open(csv_filename, mode='r', newline='', encoding='utf-8') as csvfile:\n",
        "    csv_reader = csv.reader(csvfile)\n",
        "\n",
        "    header = next(csv_reader)\n",
        "    filtered_data.append(header)\n",
        "\n",
        "    for row in csv_reader:\n",
        "        if len(row) > 2:\n",
        "            try:\n",
        "                amount = int(row[2])\n",
        "                if amount > 1000:\n",
        "                    filtered_data.append(row)\n",
        "            except ValueError:\n",
        "                print(f\"Skipping row with invalid amount: {', '.join(row)}\")\n",
        "                continue\n",
        "        else:\n",
        "            print(f\"Skipping row with insufficient columns: {', '.join(row)}\")\n",
        "\n",
        "\n",
        "\n",
        "print(\"\\n(Сумма > 1000):\")\n",
        "for row in filtered_data:\n",
        "    print(', '.join(row))"
      ],
      "metadata": {
        "colab": {
          "base_uri": "https://localhost:8080/"
        },
        "id": "UkNkuSaczOQY",
        "outputId": "d3243bbb-1959-4bf6-d93c-4f8f9f7b649e"
      },
      "execution_count": 156,
      "outputs": [
        {
          "output_type": "stream",
          "name": "stdout",
          "text": [
            "\n",
            "(Сумма > 1000):\n",
            "Дата, Товар, Сумма\n",
            "01.01.2023, Телефон, 1200\n",
            "03.01.2023, Ноутбук, 15000\n",
            "05.01.2023, Планшет, 3000\n"
          ]
        }
      ]
    },
    {
      "cell_type": "markdown",
      "source": [
        "4. Создать программу, которая подсчитывает среднюю оценку по предмету из CSV файла с оценками студентов."
      ],
      "metadata": {
        "id": "N9ML9UIwzqv3"
      }
    },
    {
      "cell_type": "markdown",
      "source": [
        "Добавим разнообразие и простоту:)"
      ],
      "metadata": {
        "id": "fpDpkIK2zziG"
      }
    },
    {
      "cell_type": "code",
      "source": [
        "\n",
        "csv_data_string = \"\"\"\n",
        "Студент,Математика,Физика,Химия\n",
        "Анна,5,4,5\n",
        "Борис,4,3,4\n",
        "Виктор,5,5,5\n",
        "\"\"\"\n",
        "\n",
        "csv_mean = 'data_for_mean.csv'"
      ],
      "metadata": {
        "id": "7p7bTwDrzcgt"
      },
      "execution_count": 158,
      "outputs": []
    },
    {
      "cell_type": "code",
      "source": [
        "with open(csv_mean, 'w', newline='', encoding='utf-8') as csvfile:\n",
        "    csvfile.write(csv_data_string)\n"
      ],
      "metadata": {
        "id": "cuSNTd3A0ZZ3"
      },
      "execution_count": 159,
      "outputs": []
    },
    {
      "cell_type": "code",
      "source": [
        "df = pd.read_csv('/content/data_for_mean.csv')"
      ],
      "metadata": {
        "id": "LLBiVpbA0blc"
      },
      "execution_count": 160,
      "outputs": []
    },
    {
      "cell_type": "code",
      "source": [
        "df[['Математика', 'Физика', 'Химия']].mean().rename('mean_value')"
      ],
      "metadata": {
        "colab": {
          "base_uri": "https://localhost:8080/",
          "height": 178
        },
        "id": "AZEatymn0gwn",
        "outputId": "83613f6d-2249-4e75-f0c4-29a88cb2209f"
      },
      "execution_count": 164,
      "outputs": [
        {
          "output_type": "execute_result",
          "data": {
            "text/plain": [
              "Математика    4.666667\n",
              "Физика        4.000000\n",
              "Химия         4.666667\n",
              "Name: mean_value, dtype: float64"
            ],
            "text/html": [
              "<div>\n",
              "<style scoped>\n",
              "    .dataframe tbody tr th:only-of-type {\n",
              "        vertical-align: middle;\n",
              "    }\n",
              "\n",
              "    .dataframe tbody tr th {\n",
              "        vertical-align: top;\n",
              "    }\n",
              "\n",
              "    .dataframe thead th {\n",
              "        text-align: right;\n",
              "    }\n",
              "</style>\n",
              "<table border=\"1\" class=\"dataframe\">\n",
              "  <thead>\n",
              "    <tr style=\"text-align: right;\">\n",
              "      <th></th>\n",
              "      <th>mean_value</th>\n",
              "    </tr>\n",
              "  </thead>\n",
              "  <tbody>\n",
              "    <tr>\n",
              "      <th>Математика</th>\n",
              "      <td>4.666667</td>\n",
              "    </tr>\n",
              "    <tr>\n",
              "      <th>Физика</th>\n",
              "      <td>4.000000</td>\n",
              "    </tr>\n",
              "    <tr>\n",
              "      <th>Химия</th>\n",
              "      <td>4.666667</td>\n",
              "    </tr>\n",
              "  </tbody>\n",
              "</table>\n",
              "</div><br><label><b>dtype:</b> float64</label>"
            ]
          },
          "metadata": {},
          "execution_count": 164
        }
      ]
    },
    {
      "cell_type": "markdown",
      "source": [
        "5. Объединение CSV файлов\n",
        "Написать программу, которая объединяет несколько CSV файлов с одинаковыми заголовками в один файл."
      ],
      "metadata": {
        "id": "WxPO1Wmj0--F"
      }
    },
    {
      "cell_type": "code",
      "source": [
        "csv_data1 = \"\"\"ID,Имя,Возраст\n",
        "1,Анна,20\n",
        "2,Борис,22\n",
        "\"\"\"\n",
        "\n",
        "csv_data2 = \"\"\"ID,Имя,Возраст\n",
        "3,Виктор,21\n",
        "4,Галина,19\n",
        "\"\"\""
      ],
      "metadata": {
        "id": "WQ38Yr_D3AzO"
      },
      "execution_count": 170,
      "outputs": []
    },
    {
      "cell_type": "code",
      "source": [
        "file1_name = 'file1.csv'\n",
        "file2_name = 'file2.csv'\n",
        "output_filename = 'combined_file.csv'"
      ],
      "metadata": {
        "id": "MpM-rqWw3CEu"
      },
      "execution_count": 171,
      "outputs": []
    },
    {
      "cell_type": "code",
      "source": [
        "with open(file1_name, 'w', newline='', encoding='utf-8') as f:\n",
        "    f.write(csv_data1)\n",
        "\n",
        "with open(file2_name, 'w', newline='', encoding='utf-8') as f:\n",
        "    f.write(csv_data2)\n"
      ],
      "metadata": {
        "id": "LM_ghOWK3Ia2"
      },
      "execution_count": 172,
      "outputs": []
    },
    {
      "cell_type": "code",
      "source": [
        "combined_data = []\n",
        "header = []"
      ],
      "metadata": {
        "id": "q5VlSrky3JiF"
      },
      "execution_count": 173,
      "outputs": []
    },
    {
      "cell_type": "code",
      "source": [
        "with open(file1_name, mode='r', newline='', encoding='utf-8') as infile:\n",
        "    reader = csv.reader(infile)\n",
        "    header = next(reader)\n",
        "    combined_data.append(header)\n",
        "    for row in reader:\n",
        "        combined_data.append(row)\n",
        "\n",
        "with open(file2_name, mode='r', newline='', encoding='utf-8') as infile:\n",
        "    reader = csv.reader(infile)\n",
        "    next(reader)\n",
        "    for row in reader:\n",
        "        combined_data.append(row)\n",
        "\n",
        "with open(output_filename, 'w', newline='', encoding='utf-8') as outfile:\n",
        "    writer = csv.writer(outfile)\n",
        "    writer.writerows(combined_data)\n",
        "\n",
        "print(f\"\\nCombined data written to '{output_filename}'\")\n"
      ],
      "metadata": {
        "colab": {
          "base_uri": "https://localhost:8080/"
        },
        "id": "jSBunm_r2oHi",
        "outputId": "d3aadf3d-3840-417a-e9ac-3cf1cc2ecca6"
      },
      "execution_count": 175,
      "outputs": [
        {
          "output_type": "stream",
          "name": "stdout",
          "text": [
            "\n",
            "Combined data written to 'combined_file.csv'\n"
          ]
        }
      ]
    },
    {
      "cell_type": "markdown",
      "source": [
        "6. Сгенерируйте файл csv более 1 млн строк с похожей структурой данных, запишите полученные данные CSV файл."
      ],
      "metadata": {
        "id": "LouwRh4d34du"
      }
    },
    {
      "cell_type": "code",
      "source": [
        "%%time\n",
        "import csv\n",
        "import random\n",
        "import os\n",
        "\n",
        "sample_cities = {\n",
        "    \"Москва\": 12000000,\n",
        "    \"Санкт-Петербург\": 5000000,\n",
        "    \"Новосибирск\": 1600000,\n",
        "    \"Екатеринбург\": 1500000,\n",
        "    \"Нижний Новгород\": 1200000,\n",
        "    \"Казань\": 1200000,\n",
        "    \"Челябинск\": 1200000,\n",
        "    \"Омск\": 1100000,\n",
        "    \"Самара\": 1100000,\n",
        "    \"Ростов-на-Дону\": 1100000\n",
        "}\n",
        "\n",
        "output_filename = 'large_cities_data.csv'\n",
        "num_rows = 1500000\n",
        "\n",
        "with open(output_filename, 'w', newline='', encoding='utf-8') as csvfile:\n",
        "    writer = csv.writer(csvfile)\n",
        "    writer.writerow(['Город', 'Население']) # Write header\n",
        "\n",
        "    for i in range(num_rows):\n",
        "        city, population = random.choice(list(sample_cities.items()))\n",
        "        population_variation = random.randint(-50000, 50000)\n",
        "        writer.writerow([city, population + population_variation])\n",
        "\n"
      ],
      "metadata": {
        "colab": {
          "base_uri": "https://localhost:8080/"
        },
        "id": "fdGqbp4Z33mv",
        "outputId": "2e3b924d-d4f9-4f7c-898e-96a356560c4f"
      },
      "execution_count": 178,
      "outputs": [
        {
          "output_type": "stream",
          "name": "stdout",
          "text": [
            "CPU times: user 4.21 s, sys: 97.5 ms, total: 4.31 s\n",
            "Wall time: 4.35 s\n"
          ]
        }
      ]
    },
    {
      "cell_type": "code",
      "source": [
        "%%time\n",
        "large_csv_filename = 'large_cities_data.csv'\n",
        "column_to_analyze = 'Население'\n",
        "\n",
        "with open(large_csv_filename, mode='r', newline='', encoding='utf-8') as csvfile:\n",
        "    reader = csv.reader(csvfile)\n",
        "    header = next(reader)\n",
        "\n",
        "    try:\n",
        "        column_index = header.index(column_to_analyze)\n",
        "    except ValueError:\n",
        "        print(f\"Error: Column '{column_to_analyze}' not found in the header.\")\n",
        "        column_index = -1\n",
        "\n",
        "\n",
        "    if column_index != -1:\n",
        "        for i, row in enumerate(reader):\n",
        "            if len(row) > column_index:\n",
        "                value = row[column_index]\n",
        "                value_counts[value] += 1\n",
        "top_10_values = value_counts.most_common(10)\n",
        "\n",
        "print(f\"\\nTop 10 most frequent values in the '{column_to_analyze}' column:\")\n",
        "for value, count in top_10_values:\n",
        "    print(f\"- {value}: {count}\")"
      ],
      "metadata": {
        "colab": {
          "base_uri": "https://localhost:8080/"
        },
        "id": "xr6cyPvx26ML",
        "outputId": "18481965-8ef7-4383-fd86-2ad24ce5c254"
      },
      "execution_count": 184,
      "outputs": [
        {
          "output_type": "stream",
          "name": "stdout",
          "text": [
            "\n",
            "Top 10 most frequent values in the 'Население' column:\n",
            "- 1231561: 16\n",
            "- 1240588: 15\n",
            "- 1114060: 15\n",
            "- 1109907: 15\n",
            "- 1053098: 15\n",
            "- 1117435: 15\n",
            "- 1211903: 15\n",
            "- 1213767: 15\n",
            "- 1198262: 15\n",
            "- 1213564: 15\n",
            "CPU times: user 3.95 s, sys: 85.3 ms, total: 4.04 s\n",
            "Wall time: 4.18 s\n"
          ]
        }
      ]
    },
    {
      "cell_type": "code",
      "source": [],
      "metadata": {
        "id": "bLV85St950jP"
      },
      "execution_count": null,
      "outputs": []
    }
  ]
}