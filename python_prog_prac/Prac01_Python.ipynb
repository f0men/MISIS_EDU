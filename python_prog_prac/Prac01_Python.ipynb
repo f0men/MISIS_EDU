{
  "nbformat": 4,
  "nbformat_minor": 0,
  "metadata": {
    "colab": {
      "provenance": []
    },
    "kernelspec": {
      "name": "python3",
      "display_name": "Python 3"
    },
    "language_info": {
      "name": "python"
    }
  },
  "cells": [
    {
      "cell_type": "markdown",
      "source": [
        "# Библиотеки"
      ],
      "metadata": {
        "id": "F6dxtMsENN6s"
      }
    },
    {
      "cell_type": "code",
      "source": [
        "import math\n",
        "\n",
        "from math import log10"
      ],
      "metadata": {
        "id": "T0Z_03AC-VnQ"
      },
      "execution_count": 1,
      "outputs": []
    },
    {
      "cell_type": "markdown",
      "source": [
        "Задача 1. Сумма первых n положительных чисел\n",
        "Напишите программу, запрашивающую у пользователя число и подсчитывающую сумму натуральных положительных чисел от 1 до введенного пользователем значения. Сумма первых n положительных чисел может быть рассчитана по формуле:\n"
      ],
      "metadata": {
        "id": "-yNyLeBo8Bbw"
      }
    },
    {
      "cell_type": "code",
      "execution_count": 2,
      "metadata": {
        "id": "zLO-iEx673cg"
      },
      "outputs": [],
      "source": [
        "def sum_positive_natural(\n",
        "    end_position: int\n",
        "\n",
        ") -> int:\n",
        "\n",
        "  ''' сумма положительных натуральных чисел'''\n",
        "\n",
        "  return end_position*(end_position+1) / 2\n",
        "\n"
      ]
    },
    {
      "cell_type": "code",
      "source": [
        "num = int(input('Введи число \\n'))"
      ],
      "metadata": {
        "colab": {
          "base_uri": "https://localhost:8080/"
        },
        "id": "rAcWp7LD94mf",
        "outputId": "80932a04-15d0-4d18-f542-680fc99bee25"
      },
      "execution_count": 3,
      "outputs": [
        {
          "name": "stdout",
          "output_type": "stream",
          "text": [
            "Введи число \n",
            "2\n"
          ]
        }
      ]
    },
    {
      "cell_type": "code",
      "source": [
        "sum_positive_natural(num)"
      ],
      "metadata": {
        "colab": {
          "base_uri": "https://localhost:8080/"
        },
        "id": "07u6K72y9VVU",
        "outputId": "de4aea8d-4938-4882-c4b7-a26e03d5b9fd"
      },
      "execution_count": 4,
      "outputs": [
        {
          "output_type": "execute_result",
          "data": {
            "text/plain": [
              "3.0"
            ]
          },
          "metadata": {},
          "execution_count": 4
        }
      ]
    },
    {
      "cell_type": "markdown",
      "source": [
        "Задача 2. Калькулятор\n",
        "Составьте программу, которая запрашивает у пользователя 2 целых числа и выполняет операции:\n",
        "●\tарифметические: +, -, * , / , // , %, **, log10;\n",
        "●\tсравнение: <, <=, >, >=, !=, ==,\n",
        "выводя на экран результат каждого действия. В случае получение вещественного результата, округлите его до 2-х знаков после запятой (используя функцию round()).\n"
      ],
      "metadata": {
        "id": "T69IxtD6BI1_"
      }
    },
    {
      "cell_type": "code",
      "source": [
        "def calc (\n",
        "    first_val  :int,\n",
        "    second_val :int,\n",
        "    operator\n",
        ") -> int|float:\n",
        "\n",
        "  ''' простой калькулятор с аутпутом int или float '''\n",
        "\n",
        "  operators = ['+', '-', ' *' , '/' , '//' , '%' , '**', 'log10', '<', '<=', '>', '>=', '!=',' ==']\n",
        "  result = None\n",
        "\n",
        "  if operator not in operators:\n",
        "    return \"Недопустимая операция\"\n",
        "\n",
        "  if operator == '+':\n",
        "    result = first_val + second_val\n",
        "  elif operator == '-':\n",
        "    result = first_val - second_val\n",
        "  elif operator == '*':\n",
        "    result = first_val * second_val\n",
        "  elif operator == '/':\n",
        "    if second_val == 0:\n",
        "      return \"Деление на ноль невозможно\"\n",
        "    result = first_val / second_val\n",
        "  elif operator == '//':\n",
        "    if second_val == 0:\n",
        "      return \"Деление на ноль невозможно\"\n",
        "    result = first_val // second_val\n",
        "  elif operator == '%':\n",
        "    if second_val == 0:\n",
        "      return \"Деление на ноль невозможно\"\n",
        "    result = first_val % second_val\n",
        "  elif operator == '**':\n",
        "    result = first_val ** second_val\n",
        "  elif operator == 'log10':\n",
        "    if first_val <= 0:\n",
        "      return \"Логарифм определен только для положительных чисел\"\n",
        "    result = log10(first_val)\n",
        "  elif operator == '<':\n",
        "    result = first_val < second_val\n",
        "  elif operator == '<=':\n",
        "    result = first_val <= second_val\n",
        "  elif operator == '>':\n",
        "    result = first_val > second_val\n",
        "  elif operator == '>=':\n",
        "    result = first_val >= second_val\n",
        "  elif operator == '!=':\n",
        "    result = first_val != second_val\n",
        "  elif operator == '==':\n",
        "    result = first_val == second_val\n",
        "\n",
        "  if isinstance(result, (int, float)):\n",
        "    return round(result, 2)\n",
        "  else:\n",
        "    return result"
      ],
      "metadata": {
        "id": "_SwtuFUVANr-"
      },
      "execution_count": 5,
      "outputs": []
    },
    {
      "cell_type": "markdown",
      "source": [
        "Задача 3.Вычислите значение следующего выражения (аргументы - целые числа и вводятся с клавиатуры)\n",
        "\n",
        "f =  ∛((x^5  + 7)/(|-6| ⋅ y))/(7 - z mody)"
      ],
      "metadata": {
        "id": "q7xuZ-asB_4p"
      }
    },
    {
      "cell_type": "code",
      "source": [
        "x = int(input(\"Введите целое число x: \"))\n",
        "y = int(input(\"Введите целое число y: \"))\n",
        "z = int(input(\"Введите целое число z: \"))\n",
        "\n",
        "numerator = (x**5 + 7) / (abs(-6) * y)\n",
        "\n",
        "denominator = 7 - (z % y)\n",
        "\n",
        "if denominator == 0:\n",
        "    print(\"Ошибка: Деление на ноль невозможно.\")\n",
        "else:\n",
        "    if numerator < 0:\n",
        "      print(\"Ошибка: Невозможно извлечь кубический корень из отрицательного числа.\")\n",
        "    else:\n",
        "      f = math.cbrt(numerator) / denominator\n",
        "      rounded_f = round(f, 3)\n",
        "\n",
        "      print(f\"Значение выражения f: {rounded_f}\")"
      ],
      "metadata": {
        "colab": {
          "base_uri": "https://localhost:8080/"
        },
        "id": "BmTP3ojbBF8f",
        "outputId": "7844182f-0279-487c-e493-84aaa805a4a2"
      },
      "execution_count": 6,
      "outputs": [
        {
          "output_type": "stream",
          "name": "stdout",
          "text": [
            "Введите целое число x: 2\n",
            "Введите целое число y: 1\n",
            "Введите целое число z: 2\n",
            "Значение выражения f: 0.267\n"
          ]
        }
      ]
    },
    {
      "cell_type": "markdown",
      "source": [
        "Задача 4.\n",
        "Дана электрическая цепь, состоящая из 2-х последовательно соединенных проводников (сопротивление каждого известно). Найти общее сопротивление цепи (округление результата необходимо выполнить до 1-го знака после запятой)."
      ],
      "metadata": {
        "id": "0cutjg0CCm6v"
      }
    },
    {
      "cell_type": "code",
      "source": [
        "def calculate_total_resistance_series(r1: float, r2: float) -> float:\n",
        "  \"\"\"\n",
        "  Рассчитывает общее сопротивление двух резисторов, соединенных последовательно.\n",
        "\n",
        "  Args:\n",
        "    r1: Сопротивление первого резистора.\n",
        "    r2: Сопротивление второго резистора.\n",
        "\n",
        "  Returns:\n",
        "    Общее сопротивление, округленное до одного знака после запятой.\n",
        "  \"\"\"\n",
        "  total_resistance = r1 + r2\n",
        "  return round(total_resistance, 1)"
      ],
      "metadata": {
        "id": "KEEgKBbPBxEq"
      },
      "execution_count": 7,
      "outputs": []
    },
    {
      "cell_type": "code",
      "source": [
        "calculate_total_resistance_series(2, 3)"
      ],
      "metadata": {
        "colab": {
          "base_uri": "https://localhost:8080/"
        },
        "id": "S356gcacPBtB",
        "outputId": "fcf2cfd8-0d65-44d0-d24c-6fb12f848eb4"
      },
      "execution_count": 8,
      "outputs": [
        {
          "output_type": "execute_result",
          "data": {
            "text/plain": [
              "5"
            ]
          },
          "metadata": {},
          "execution_count": 8
        }
      ]
    },
    {
      "cell_type": "markdown",
      "source": [
        "Задача 5.\n",
        "Дано уравнение ax + b = 0 и отрезок [m;n]. Ответьте на вопрос, попадает ли решение уравнения в указанный отрезок.\n"
      ],
      "metadata": {
        "id": "BaiIllNPDWqv"
      }
    },
    {
      "cell_type": "code",
      "source": [
        "def solve_and_check_equation(\n",
        "    a: float,\n",
        "    b: float,\n",
        "    m: float,\n",
        "    n: float) -> str:\n",
        "    \"\"\"\n",
        "    Решает уравнение ax + b = 0 и проверяет, попадает ли решение в отрезок [m; n].\n",
        "\n",
        "    Args:\n",
        "        a: Коэффициент при x.\n",
        "        b: Свободный член.\n",
        "        m: Левая граница отрезка.\n",
        "        n: Правая граница отрезка.\n",
        "\n",
        "    Returns:\n",
        "        Строка с описанием результата.\n",
        "    \"\"\"\n",
        "    if a == 0:\n",
        "        if b == 0:\n",
        "            return \"Уравнение имеет бесконечно много решений.\"\n",
        "        else:\n",
        "            return \"Уравнение не имеет решений.\"\n",
        "    else:\n",
        "        x = -b / a\n",
        "        if m <= x <= n:\n",
        "            return f\"Решение уравнения x = {x:.2f} попадает в отрезок [{m}; {n}].\"\n",
        "        else:\n",
        "            return f\"Решение уравнения x = {x:.2f} не попадает в отрезок [{m}; {n}].\""
      ],
      "metadata": {
        "id": "Ijc-yL_7DYqP"
      },
      "execution_count": 9,
      "outputs": []
    },
    {
      "cell_type": "code",
      "source": [
        "solve_and_check_equation(1,2,0,100)"
      ],
      "metadata": {
        "colab": {
          "base_uri": "https://localhost:8080/",
          "height": 35
        },
        "id": "vGHiUl-HPPuR",
        "outputId": "d6d5f1e3-985e-484c-a3e0-2722fd15e15a"
      },
      "execution_count": 10,
      "outputs": [
        {
          "output_type": "execute_result",
          "data": {
            "text/plain": [
              "'Решение уравнения x = -2.00 не попадает в отрезок [0; 100].'"
            ],
            "application/vnd.google.colaboratory.intrinsic+json": {
              "type": "string"
            }
          },
          "metadata": {},
          "execution_count": 10
        }
      ]
    },
    {
      "cell_type": "markdown",
      "source": [
        "Задача 6. Поездка по кругу\n",
        "Спортсмен решил потренироваться перед марафоном и покататься вокруг города на скорость. Длина дороги — 123 километра. Спортсмен стартует с нулевого километра и едет со скоростью v километров в час. На какой отметке он остановится через t часов?\n",
        "Реализуйте программу, которая спрашивает у пользователя v и t и выводит целое число от 0 до 122 — номер километра, на котором остановится Спортсмен. Учтите, что он может прокатиться больше одного круга.\n"
      ],
      "metadata": {
        "id": "l59nM4lPDdKA"
      }
    },
    {
      "cell_type": "code",
      "source": [
        "def calculate_cyclist_position(\n",
        "    v: float,\n",
        "    t: float,\n",
        "    track_length: int = 123) -> int:\n",
        "    \"\"\"\n",
        "    Рассчитывает конечную позицию спортсмена на круговой трассе.\n",
        "\n",
        "    Args:\n",
        "        v: Скорость спортсмена в км/ч.\n",
        "        t: Время в часах.\n",
        "        track_length: Длина круговой трассы в километрах (по умолчанию 123).\n",
        "\n",
        "    Returns:\n",
        "        Номер километра, на котором остановится спортсмен (от 0 до track_length-1).\n",
        "    \"\"\"\n",
        "    distance = v * t\n",
        "    final_position = int(distance % track_length)\n",
        "    return final_position"
      ],
      "metadata": {
        "id": "WNUZCjYlDe73"
      },
      "execution_count": 13,
      "outputs": []
    },
    {
      "cell_type": "code",
      "source": [
        "calculate_cyclist_position(25, 6, 123)"
      ],
      "metadata": {
        "colab": {
          "base_uri": "https://localhost:8080/"
        },
        "id": "s2hqFye9PfXI",
        "outputId": "70405d96-118b-4a64-c23c-88244e78d72c"
      },
      "execution_count": 15,
      "outputs": [
        {
          "output_type": "execute_result",
          "data": {
            "text/plain": [
              "27"
            ]
          },
          "metadata": {},
          "execution_count": 15
        }
      ]
    },
    {
      "cell_type": "markdown",
      "source": [
        "Задача 7. Сумма и произведение цифр в числе\n",
        "Дано двузначное и трехзначное число. Для каждого выведите на экран сумму и произведение цифр.\n"
      ],
      "metadata": {
        "id": "YqQUV-BfDsrv"
      }
    },
    {
      "cell_type": "code",
      "source": [
        "def sum_and_product_of_digits(number: int) -> tuple[int, int]:\n",
        "    \"\"\"\n",
        "    Вычисляет сумму и произведение цифр в числе.\n",
        "\n",
        "    Args:\n",
        "        number: Входное число (двузначное или трехзначное).\n",
        "\n",
        "    Returns:\n",
        "        Кортеж (сумма цифр, произведение цифр).\n",
        "    \"\"\"\n",
        "    number_str = str(number)\n",
        "    digit_sum = 0\n",
        "    digit_product = 1\n",
        "    for digit in number_str:\n",
        "        digit_int = int(digit)\n",
        "        digit_sum += digit_int\n",
        "        digit_product *= digit_int\n",
        "    return digit_sum, digit_product"
      ],
      "metadata": {
        "id": "YPPEJ7MeDqKP"
      },
      "execution_count": 16,
      "outputs": []
    },
    {
      "cell_type": "code",
      "source": [
        "sum_and_product_of_digits(255)"
      ],
      "metadata": {
        "colab": {
          "base_uri": "https://localhost:8080/"
        },
        "id": "EhFvM7EwQD_R",
        "outputId": "e680c3ab-a0c9-4868-d9d2-65990df95b99"
      },
      "execution_count": 17,
      "outputs": [
        {
          "output_type": "execute_result",
          "data": {
            "text/plain": [
              "(12, 50)"
            ]
          },
          "metadata": {},
          "execution_count": 17
        }
      ]
    },
    {
      "cell_type": "markdown",
      "source": [
        "Задача 8. Сортировка трех чисел\n",
        "Напишите программу, запрашивающую у пользователя три целых числа и выводящую их в упорядоченном виде – по возрастанию. Используйте функции min и max для нахождения наименьшего и наибольшего значений. Оставшееся число можно найти путем вычитания из суммы трех введенных чисел максимального и минимального.\n"
      ],
      "metadata": {
        "id": "1DFsjaExFLPv"
      }
    },
    {
      "cell_type": "code",
      "source": [
        "def sort_three_numbers(\n",
        "    num1: int,\n",
        "    num2: int,\n",
        "    num3: int) -> tuple[int, int, int]:\n",
        "    \"\"\"\n",
        "    Сортирует три целых числа по возрастанию.\n",
        "\n",
        "    Args:\n",
        "        num1, num2, num3: Три целых числа.\n",
        "\n",
        "    Returns:\n",
        "        Кортеж с отсортированными числами.\n",
        "    \"\"\"\n",
        "    smallest = min(num1, num2, num3)\n",
        "    largest = max(num1, num2, num3)\n",
        "    middle = num1 + num2 + num3 - smallest - largest\n",
        "    return smallest, middle, largest\n"
      ],
      "metadata": {
        "id": "HTAFRw8uFPuH"
      },
      "execution_count": 19,
      "outputs": []
    },
    {
      "cell_type": "code",
      "source": [
        "sort_three_numbers(1,5, 2)"
      ],
      "metadata": {
        "colab": {
          "base_uri": "https://localhost:8080/"
        },
        "id": "cHfTKcSgQL3r",
        "outputId": "1c0d8d10-8757-4ce0-ba93-34832bc2916a"
      },
      "execution_count": 20,
      "outputs": [
        {
          "output_type": "execute_result",
          "data": {
            "text/plain": [
              "(1, 2, 5)"
            ]
          },
          "metadata": {},
          "execution_count": 20
        }
      ]
    },
    {
      "cell_type": "markdown",
      "source": [
        "\n",
        "Задача 9. Поменять местами: не всё так просто!\n",
        "Напишите программу, которая меняла бы значения двух переменных местами, но без использования третьей переменной и синтаксического сахара, а именно — без конструкции\n"
      ],
      "metadata": {
        "id": "X13jxRAcFkNg"
      }
    },
    {
      "cell_type": "code",
      "source": [
        "a = int(input('Введите первое число: '))\n",
        "b = int(input('Введите второе число: '))\n",
        "\n",
        "a = a + b\n",
        "b = a - b\n",
        "a = a - b\n",
        "\n",
        "print(a, b)\n"
      ],
      "metadata": {
        "colab": {
          "base_uri": "https://localhost:8080/"
        },
        "id": "4TW6hXcsGA3_",
        "outputId": "01db3a3a-7a48-45f5-aae8-33619cddebfa"
      },
      "execution_count": 21,
      "outputs": [
        {
          "output_type": "stream",
          "name": "stdout",
          "text": [
            "Введите первое число: 2\n",
            "Введите второе число: 1\n",
            "1 2\n"
          ]
        }
      ]
    },
    {
      "cell_type": "markdown",
      "source": [
        "Задача 10.\n",
        "Составьте программу, которая запрашивает название футбольной команды и повторяет его на экране со словами\n",
        "... - чемпион!\n",
        "После этого выполните:\n",
        "●\tиспользуя операцию дублирования, нарисуйте черту (набор \"-\"), длиной, равной размеру названия команды;\n",
        "●\tпреобразуйте строку в нижний регистр и выведите на экран:\n",
        "○\tдлину наименования команды;\n",
        "○\tесть ли в наименовании команды буква \"п\" (True/False)?\n",
        "○\tсколько раз повторяется буква \"а\"?\n"
      ],
      "metadata": {
        "id": "wTsf5q4gGMgv"
      }
    },
    {
      "cell_type": "code",
      "source": [
        "def process_team_name():\n",
        "    \"\"\"\n",
        "    Обрабатывает название футбольной команды: выводит с \"чемпион!\",\n",
        "    рисует черту, выводит информацию о длине, наличии буквы \"п\" и количестве буквы \"а\".\n",
        "    \"\"\"\n",
        "    team_name = input(\"Введите название футбольной команды: \")\n",
        "    print(f\"{team_name} - чемпион!\")\n",
        "    print(\"-\" * len(team_name))\n",
        "    team_name_lower = team_name.lower()\n",
        "\n",
        "    print(f\"Длина наименования команды: {len(team_name_lower)}\")\n",
        "    print(f\"Есть ли в наименовании команды буква 'п': {'п' in team_name_lower}\")\n",
        "    print(f\"Сколько раз повторяется буква 'а': {team_name_lower.count('а')}\")"
      ],
      "metadata": {
        "id": "kYhRLsvVGYBI"
      },
      "execution_count": 22,
      "outputs": []
    },
    {
      "cell_type": "code",
      "source": [
        "process_team_name()"
      ],
      "metadata": {
        "colab": {
          "base_uri": "https://localhost:8080/"
        },
        "id": "0zIiWw5DGamX",
        "outputId": "45dc0a93-b445-4dbe-d1b4-ee76113ab91e"
      },
      "execution_count": 23,
      "outputs": [
        {
          "output_type": "stream",
          "name": "stdout",
          "text": [
            "Введите название футбольной команды: Спартак\n",
            "Спартак - чемпион!\n",
            "-------\n",
            "Длина наименования команды: 7\n",
            "Есть ли в наименовании команды буква 'п': True\n",
            "Сколько раз повторяется буква 'а': 2\n"
          ]
        }
      ]
    },
    {
      "cell_type": "markdown",
      "source": [
        "Задача 11. Составьте программу, которая запрашивает название государства и его столицы, а затем выводит сообщение:\n",
        "Государство - ..., столица - ...\n",
        "\n",
        "На месте многоточий должны быть выведены соответствующие значения.\n"
      ],
      "metadata": {
        "id": "WDsdbo2FGyhP"
      }
    },
    {
      "cell_type": "code",
      "source": [
        "def display_country_and_capital():\n",
        "    \"\"\"\n",
        "    Выводит сообщение о государстве и его столице.\n",
        "    \"\"\"\n",
        "    country = input(\"Введите название государства: \")\n",
        "    capital = input(\"Введите название столицы: \")\n",
        "    print(f\"Государство - {country}, столица - {capital}\")"
      ],
      "metadata": {
        "id": "21gTivGGGcxa"
      },
      "execution_count": 24,
      "outputs": []
    },
    {
      "cell_type": "code",
      "source": [
        "display_country_and_capital()"
      ],
      "metadata": {
        "colab": {
          "base_uri": "https://localhost:8080/"
        },
        "id": "FyzJY31wHNA6",
        "outputId": "f45b5b0b-62bc-465e-cf7d-00c6ee9c11c0"
      },
      "execution_count": 25,
      "outputs": [
        {
          "output_type": "stream",
          "name": "stdout",
          "text": [
            "Введите название государства: Россия\n",
            "Введите название столицы: Москва\n",
            "Государство - Россия, столица - Москва\n"
          ]
        }
      ]
    },
    {
      "cell_type": "markdown",
      "source": [
        "Задача 12.\n",
        "Дано слово объектно-ориентированный. Используя индексацию и срезы составьте из него слова объект, ориентир, тир, кот, рента и выведите их на экран.\n"
      ],
      "metadata": {
        "id": "7auVVJ93HaOv"
      }
    },
    {
      "cell_type": "code",
      "source": [
        "word = \"объектно-ориентированный\""
      ],
      "metadata": {
        "id": "4N4pIRK0JgBA"
      },
      "execution_count": 26,
      "outputs": []
    },
    {
      "cell_type": "code",
      "source": [
        "for i, val in enumerate(word):\n",
        "  print(i, val)"
      ],
      "metadata": {
        "colab": {
          "base_uri": "https://localhost:8080/"
        },
        "id": "nlJMv9cqJg4f",
        "outputId": "12caf011-660b-4f2e-ca76-1c8e02eb6f35"
      },
      "execution_count": 27,
      "outputs": [
        {
          "output_type": "stream",
          "name": "stdout",
          "text": [
            "0 о\n",
            "1 б\n",
            "2 ъ\n",
            "3 е\n",
            "4 к\n",
            "5 т\n",
            "6 н\n",
            "7 о\n",
            "8 -\n",
            "9 о\n",
            "10 р\n",
            "11 и\n",
            "12 е\n",
            "13 н\n",
            "14 т\n",
            "15 и\n",
            "16 р\n",
            "17 о\n",
            "18 в\n",
            "19 а\n",
            "20 н\n",
            "21 н\n",
            "22 ы\n",
            "23 й\n"
          ]
        }
      ]
    },
    {
      "cell_type": "code",
      "source": [
        "part_1 = word[0:6]\n",
        "print(part_1)\n",
        "\n",
        "part_2 = word[9:17]\n",
        "print(part_2)\n",
        "\n",
        "part_3 = word[14:17]\n",
        "print(part_3)\n",
        "\n",
        "part_4 = word[4] + word[0] + word[14]\n",
        "print(part_4)\n",
        "\n",
        "part_5 = word[10] + word[3] + word[6] + word[14] + word[19]\n",
        "print(part_5)"
      ],
      "metadata": {
        "colab": {
          "base_uri": "https://localhost:8080/"
        },
        "id": "XxPulPgCIEEK",
        "outputId": "9f02487f-42bb-4e52-dda0-59a693afda2b"
      },
      "execution_count": 28,
      "outputs": [
        {
          "output_type": "stream",
          "name": "stdout",
          "text": [
            "объект\n",
            "ориентир\n",
            "тир\n",
            "кот\n",
            "рента\n"
          ]
        }
      ]
    },
    {
      "cell_type": "markdown",
      "source": [
        "Задача 13.\n",
        "Создайте 2 пустых списка и выполните операции, описанные в заготовке.\n"
      ],
      "metadata": {
        "id": "oHlQMgfkLn6R"
      }
    },
    {
      "cell_type": "code",
      "source": [
        "a = []\n",
        "b = []\n",
        "\n",
        "a.append(4.5)\n",
        "a.append(3.4)\n",
        "\n",
        "a.extend([8.7, 1.3])\n",
        "\n",
        "\n",
        "b.append(14.5)\n",
        "b.append(3.4)\n",
        "\n",
        "\n",
        "b.extend([8.7, 11.3])\n",
        "\n",
        "\n",
        "a.insert(1, 100)\n",
        "a.insert(3, 100)\n",
        "\n",
        "b.insert(0, 200)\n",
        "b.insert(2, 200)\n",
        "\n",
        "\n",
        "print(\"Исходные списки:\")\n",
        "print(\"1-й:\", a)\n",
        "print(\"2-й:\", b)\n",
        "\n",
        "del a[0]\n",
        "del b[0]\n",
        "\n",
        "\n",
        "a.remove(100)\n",
        "\n",
        "b.remove(200)\n",
        "\n",
        "\n",
        "print(\"\\nПосле удалений:\")\n",
        "print(\"1-й:\", a)\n",
        "print(\"2-й:\", b)\n",
        "\n",
        "\n",
        "sa = set(a)\n",
        "sb = set(b)\n",
        "sa_and_sb = sa & sb\n",
        "\n",
        "print(\"\\nУникальные элементы:\")\n",
        "print(\"1-й:\", sa)\n",
        "print(\"2-й:\", sb)\n",
        "print(\"общие:\", sa_and_sb)\n",
        "\n",
        "\n",
        "c = a + b\n",
        "\n",
        "\n",
        "c_asc = sorted(c)\n",
        "c_desc = sorted(c, reverse=True)\n",
        "\n",
        "\n",
        "even_elements = c[1::2]\n",
        "sr_ar = sum(even_elements) / len(even_elements)\n",
        "\n",
        "\n",
        "from math import prod\n",
        "odd_elements = c[::2]\n",
        "sr_geom = prod(odd_elements) ** (1/len(odd_elements))\n",
        "\n",
        "\n",
        "c_max = max(c)\n",
        "c_min = min(c)\n",
        "\n",
        "\n",
        "print(\"\\nИтоговые:\")\n",
        "print(\"3-й:\", c)\n",
        "print(\"Сортировка (возр.):\", c_asc)\n",
        "print(\"Сортировка (убыв.):\", c_desc)\n",
        "print(f\"Ср. арифм. = {sr_ar:.2f}, ср. геометр. = {sr_geom:.2f}\")\n",
        "print(f\"Макс. и мин.: {c_max} {c_min}\")"
      ],
      "metadata": {
        "colab": {
          "base_uri": "https://localhost:8080/"
        },
        "id": "UsJSkMxwK4lo",
        "outputId": "b077aa11-540b-4c2f-b775-fef82eb78a07"
      },
      "execution_count": 29,
      "outputs": [
        {
          "output_type": "stream",
          "name": "stdout",
          "text": [
            "Исходные списки:\n",
            "1-й: [4.5, 100, 3.4, 100, 8.7, 1.3]\n",
            "2-й: [200, 14.5, 200, 3.4, 8.7, 11.3]\n",
            "\n",
            "После удалений:\n",
            "1-й: [3.4, 100, 8.7, 1.3]\n",
            "2-й: [14.5, 3.4, 8.7, 11.3]\n",
            "\n",
            "Уникальные элементы:\n",
            "1-й: {8.7, 1.3, 3.4, 100}\n",
            "2-й: {8.7, 11.3, 3.4, 14.5}\n",
            "общие: {8.7, 3.4}\n",
            "\n",
            "Итоговые:\n",
            "3-й: [3.4, 100, 8.7, 1.3, 14.5, 3.4, 8.7, 11.3]\n",
            "Сортировка (возр.): [1.3, 3.4, 3.4, 8.7, 8.7, 11.3, 14.5, 100]\n",
            "Сортировка (убыв.): [100, 14.5, 11.3, 8.7, 8.7, 3.4, 3.4, 1.3]\n",
            "Ср. арифм. = 29.00, ср. геометр. = 7.82\n",
            "Макс. и мин.: 100 1.3\n"
          ]
        }
      ]
    },
    {
      "cell_type": "markdown",
      "source": [
        "Задача 14.\n",
        "Создайте пустой словарь для хранения информации о себе и выполните операции, описанные в заготовке."
      ],
      "metadata": {
        "id": "6M5hLONML3cI"
      }
    },
    {
      "cell_type": "code",
      "source": [
        "\n",
        "info = {}\n",
        "\n",
        "\n",
        "info[\"фио\"] = \"Фоменко Егор Денисович\"\n",
        "info[\"дата_рождения\"] = \"18/06/2003\"\n",
        "info[\"место_рождения\"] = \"Столица мира\"\n",
        "\n",
        "\n",
        "print(info)\n",
        "\n",
        "info[\"хобби\"] = [\"рыбалка\", \"сон\"]\n",
        "\n",
        "\n",
        "info[\"хобби\"].append(\"программирование\")\n",
        "\n",
        "\n",
        "info[\"животные\"] = (\"нет\")\n",
        "\n",
        "\n",
        "info[\"ЕГЭ\"] = {}\n",
        "\n",
        "\n",
        "info[\"ЕГЭ\"][\"Математика\"] = 0\n",
        "info[\"ЕГЭ\"][\"Информатика\"] = 0\n",
        "info[\"ЕГЭ\"][\"Русский язык\"] = 0\n",
        "\n",
        "\n",
        "info[\"ЕГЭ\"][\"Физика\"] = 0\n",
        "del info[\"ЕГЭ\"][\"Физика\"]\n",
        "\n",
        "\n",
        "info[\"вузы\"] = {}\n",
        "\n",
        "\n",
        "info[\"вузы\"][\"МИРЭА\"] = 240\n",
        "info[\"вузы\"][\"МГУ\"] = 295\n",
        "info[\"вузы\"][\"МГТУ им. Баумана\"] = 255\n",
        "\n",
        "\n",
        "print(\"Данные:\")\n",
        "\n",
        "print(info)\n",
        "\n",
        "\n",
        "exams = tuple(sorted(info[\"ЕГЭ\"].keys()))\n",
        "print(\"Предметы:\", exams)\n",
        "\n",
        "uni = tuple(sorted(info[\"вузы\"].keys()))\n",
        "print(\"Вузы:\", uni)\n",
        "\n",
        "\n",
        "print(\"\\nОтветы на вопросы:\")\n",
        "\n",
        "\n",
        "name = info[\"фио\"].split()[1]\n",
        "\n",
        "starts_with_vowel = name[0].lower() in 'аеёиоуыэюя'\n",
        "print(\"* мое имя начинается на гласную букву:\", starts_with_vowel)\n",
        "\n",
        "\n",
        "month = int(info[\"дата_рождения\"].split('/')[1])\n",
        "\n",
        "born_in_winter_or_summer = month in [12, 1, 2, 6, 7, 8]\n",
        "print(\"* родился летом или зимой:\", born_in_winter_or_summer)\n",
        "\n",
        "\n",
        "hobbies_count = len(info[\"хобби\"])\n",
        "print(\"* у меня {} хобби, первое \\\"{}\\\"\".format(hobbies_count, info[\"хобби\"][0]))\n",
        "\n",
        "\n",
        "print(\"* после окончания школы сдавал {} экз.\".format(len(info[\"ЕГЭ\"])))\n",
        "\n",
        "\n",
        "sum_mark = sum(info[\"ЕГЭ\"].values())\n",
        "print(\"* сумма баллов = {}\".format(sum_mark))\n",
        "\n",
        "\n",
        "max_mark = max(info[\"ЕГЭ\"].values())\n",
        "print(\"* макс. балл = {}\".format(max_mark))\n",
        "\n",
        "\n",
        "vuz_count = sum(int(sum_mark >= score) for score in info[\"вузы\"].values())\n",
        "print(\"* кол-во вузов в которые прохожу: {}\".format(vuz_count))"
      ],
      "metadata": {
        "colab": {
          "base_uri": "https://localhost:8080/"
        },
        "id": "JdnosewQLKxh",
        "outputId": "99d33fa8-9edd-4132-9761-0fb5ca74ca02"
      },
      "execution_count": 30,
      "outputs": [
        {
          "output_type": "stream",
          "name": "stdout",
          "text": [
            "{'фио': 'Фоменко Егор Денисович', 'дата_рождения': '18/06/2003', 'место_рождения': 'Столица мира'}\n",
            "Данные:\n",
            "{'фио': 'Фоменко Егор Денисович', 'дата_рождения': '18/06/2003', 'место_рождения': 'Столица мира', 'хобби': ['рыбалка', 'сон', 'программирование'], 'животные': 'нет', 'ЕГЭ': {'Математика': 0, 'Информатика': 0, 'Русский язык': 0}, 'вузы': {'МИРЭА': 240, 'МГУ': 295, 'МГТУ им. Баумана': 255}}\n",
            "Предметы: ('Информатика', 'Математика', 'Русский язык')\n",
            "Вузы: ('МГТУ им. Баумана', 'МГУ', 'МИРЭА')\n",
            "\n",
            "Ответы на вопросы:\n",
            "* мое имя начинается на гласную букву: True\n",
            "* родился летом или зимой: True\n",
            "* у меня 3 хобби, первое \"рыбалка\"\n",
            "* после окончания школы сдавал 3 экз.\n",
            "* сумма баллов = 0\n",
            "* макс. балл = 0\n",
            "* кол-во вузов в которые прохожу: 0\n"
          ]
        }
      ]
    },
    {
      "cell_type": "code",
      "source": [],
      "metadata": {
        "id": "qY-_sHxQMo6v"
      },
      "execution_count": null,
      "outputs": []
    }
  ]
}