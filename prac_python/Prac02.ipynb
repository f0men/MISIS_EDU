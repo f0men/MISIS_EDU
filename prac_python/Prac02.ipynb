{
  "nbformat": 4,
  "nbformat_minor": 0,
  "metadata": {
    "colab": {
      "provenance": []
    },
    "kernelspec": {
      "name": "python3",
      "display_name": "Python 3"
    },
    "language_info": {
      "name": "python"
    }
  },
  "cells": [
    {
      "cell_type": "markdown",
      "source": [
        "Задача 1.\n",
        "a = [1, 5, 3]\n",
        "b = [1, 5, 1, 5]\n",
        "c = [1, 3, 1, 5, 3, 3]\n",
        "for i in b:\n",
        "    a.append(i)\n",
        "t = 0\n",
        "for i in a:\n",
        "    if i == 5:\n",
        "        t += 1\n",
        "print(t)\n",
        "d = []\n",
        "for i in a:\n",
        "    if i != 5:\n",
        "        d.append(i)\n",
        "for i in c:\n",
        "    d.append(i)\n",
        "t = 0\n",
        "for i in d:\n",
        "    if i == 3:\n",
        "        t += 1\n",
        "print(t)\n",
        "print(d)\n"
      ],
      "metadata": {
        "id": "DbC7xU49E6Jj"
      }
    },
    {
      "cell_type": "code",
      "execution_count": 1,
      "metadata": {
        "colab": {
          "base_uri": "https://localhost:8080/"
        },
        "id": "-sioa6bREyhh",
        "outputId": "71eeb8af-6486-44f6-b2b7-57fbfcafc45f"
      },
      "outputs": [
        {
          "output_type": "stream",
          "name": "stdout",
          "text": [
            "3\n",
            "4\n",
            "[1, 3, 1, 1, 1, 3, 1, 5, 3, 3]\n"
          ]
        }
      ],
      "source": [
        "# исходный вариант\n",
        "a = [1, 5, 3]\n",
        "b = [1, 5, 1, 5]\n",
        "c = [1, 3, 1, 5, 3, 3]\n",
        "for i in b:\n",
        "    a.append(i)\n",
        "t = 0\n",
        "for i in a:\n",
        "    if i == 5:\n",
        "        t += 1\n",
        "print(t)\n",
        "d = []\n",
        "for i in a:\n",
        "    if i != 5:\n",
        "        d.append(i)\n",
        "for i in c:\n",
        "    d.append(i)\n",
        "t = 0\n",
        "for i in d:\n",
        "    if i == 3:\n",
        "        t += 1\n",
        "print(t)\n",
        "print(d)\n"
      ]
    },
    {
      "cell_type": "code",
      "source": [
        "a = [1, 5, 3]\n",
        "b = [1, 5, 1, 5]\n",
        "c = [1, 3, 1, 5, 3, 3]\n",
        "\n",
        "f_num = 5\n",
        "s_num = 3\n",
        "\n",
        "a += b\n",
        "\n",
        "\n",
        "cnt_num = a.count(f_num)\n",
        "print(f'Количество цифр 5 при первом объединении: {cnt_num}')\n",
        "\n",
        "while f_num in a:\n",
        "  a.remove(5)\n",
        "\n",
        "a += c\n",
        "cnt_num = a.count(s_num)\n",
        "print(f'Количество цифр 3 при втором объединении: {cnt_num}')\n",
        "\n",
        "print(f'Итоговый список: {a}')\n"
      ],
      "metadata": {
        "colab": {
          "base_uri": "https://localhost:8080/"
        },
        "id": "MDPc4WHcF3M2",
        "outputId": "356b4dd0-df35-4fbc-af76-711b23b5b2ac"
      },
      "execution_count": 2,
      "outputs": [
        {
          "output_type": "stream",
          "name": "stdout",
          "text": [
            "Количество цифр 5 при первом объединении: 3\n",
            "Количество цифр 3 при втором объединении: 4\n",
            "Итоговый список: [1, 3, 1, 1, 1, 3, 1, 5, 3, 3]\n"
          ]
        }
      ]
    },
    {
      "cell_type": "markdown",
      "source": [
        "Задача 2.\n",
        "Два класса стоят в две отдельные шеренги. В каждом классе ученики выстроены по росту (по возрастанию): в одном классе от 160 см до 176 см с шагом 2, во втором классе — от 162 см до 180 см с шагом 3. Спустя какое-то время два класса объединяют в одну шеренгу и тоже выстраивают их по возрастанию.\n",
        "Напишите программу, которая генерирует списки роста для каждого в классе, затем объединяет их в один список и сортирует его в порядке возрастания. Выведите отсортированный список на экран.\n",
        "Формат вывода ответа:\n",
        "Отсортированный список учеников: [160, 162, …]\n"
      ],
      "metadata": {
        "id": "lHQpg468E5Zj"
      }
    },
    {
      "cell_type": "code",
      "source": [
        "f_class = [i for i in range(160, 170, 2)]\n",
        "s_class = [i for i in range(162, 180, 3)]"
      ],
      "metadata": {
        "id": "T0fWBxLCIxea"
      },
      "execution_count": 3,
      "outputs": []
    },
    {
      "cell_type": "code",
      "source": [
        "final_list = sorted(f_class + s_class)"
      ],
      "metadata": {
        "id": "4Ww6_j6eJObL"
      },
      "execution_count": 4,
      "outputs": []
    },
    {
      "cell_type": "code",
      "source": [
        "print(final_list)"
      ],
      "metadata": {
        "colab": {
          "base_uri": "https://localhost:8080/"
        },
        "id": "thlUdeJpKH0E",
        "outputId": "f426b048-b7d0-4189-d108-af90cd40dfde"
      },
      "execution_count": 5,
      "outputs": [
        {
          "output_type": "stream",
          "name": "stdout",
          "text": [
            "[160, 162, 162, 164, 165, 166, 168, 168, 171, 174, 177]\n"
          ]
        }
      ]
    },
    {
      "cell_type": "markdown",
      "source": [
        "Задача 3.\n",
        "В базе данных магазина всякой всячины хранится список названий деталей и их стоимостей:\n",
        "shop = [['каретка', 1200], ['шатун', 1000], ['седло', 300], ['педаль', 100], ['седло', 1500], ['рама', 12000], ['обод', 2000], ['шатун', 200], ['седло', 2700]]\n",
        "\n",
        "Продавец решил, что считать количество и стоимость деталей вручную не очень удобно, поэтому решил попросить помощи у программиста, чтобы оптимизировать этот процесс.\n",
        "Напишите программу, которая запрашивает у пользователя деталь, считает их количество, а также общую стоимость.\n"
      ],
      "metadata": {
        "id": "kAEf4lE0KKT3"
      }
    },
    {
      "cell_type": "code",
      "source": [
        "shop = [\n",
        "    ['каретка', 1200],\n",
        "    ['шатун', 1000],\n",
        "    ['седло', 300],\n",
        "    ['педаль', 100],\n",
        "    ['седло', 1500],\n",
        "    ['рама', 12000],\n",
        "    ['обод', 2000],\n",
        "    ['шатун', 200],\n",
        "    ['седло', 2700]]"
      ],
      "metadata": {
        "id": "0zLSHhLwKqCj"
      },
      "execution_count": 6,
      "outputs": []
    },
    {
      "cell_type": "code",
      "source": [
        "def counter_shop(\n",
        "    shop_list : list,\n",
        "    object_name : str\n",
        ") -> None:\n",
        "\n",
        "  res = {\n",
        "      'cnt' : 0,\n",
        "      'sum' : 0\n",
        "  }\n",
        "\n",
        "  for pair in shop:\n",
        "    if pair[0] == object_name:\n",
        "      res['cnt']+=1\n",
        "      res['sum'] += pair[1]\n",
        "\n",
        "  print(f\"\"\"\n",
        "  Название детали: {object_name}\n",
        "  Кол-во деталей — {res['cnt']}\n",
        "  Общая стоимость — {res['sum']}\n",
        "  \"\"\")\n",
        "\n",
        "\n",
        "\n"
      ],
      "metadata": {
        "id": "cEe0MktAK6Uw"
      },
      "execution_count": 7,
      "outputs": []
    },
    {
      "cell_type": "code",
      "source": [
        "counter_shop(shop, 'седло')"
      ],
      "metadata": {
        "colab": {
          "base_uri": "https://localhost:8080/"
        },
        "id": "7cl7O3wiL30o",
        "outputId": "7877f21d-2280-447b-d83f-09b498db1ab9"
      },
      "execution_count": 8,
      "outputs": [
        {
          "output_type": "stream",
          "name": "stdout",
          "text": [
            "\n",
            "  Название детали: седло\n",
            "  Кол-во деталей — 3  \n",
            "  Общая стоимость — 4500 \n",
            "  \n"
          ]
        }
      ]
    },
    {
      "cell_type": "markdown",
      "source": [
        "Задача 4.\n",
        "В честь своего дня рождения Артём решил закатить вечеринку у себя на даче. Он не стал рассылать приглашения, а просто сообщил всем: «Если хотите — приходите и своих друзей тоже зовите». В ходе вечеринки люди приходили и уходили, ночевать остались не все. К тому же и сама дача не резиновая — на ней помещается всего шесть человек.\n",
        "Дан изначальный список гостей — имена тех, кто пришёл к началу:\n",
        "guests = ['Петя', 'Ваня', 'Саша', 'Лиза', 'Катя']\n",
        "\n",
        "Напишите программу, которая спрашивает у пользователя, ушёл человек или пришёл новый гость, и, исходя из ответа, добавляет в список или удаляет из него нужное имя. При этом гостей может быть не больше шести. Имена запрашиваются до тех пор, пока пользователь не введёт сообщение «Пора спать».\n",
        "Пример:\n",
        "Сейчас на вечеринке 5 человек: [‘Петя’, ‘Ваня’, ‘Саша’, ‘Лиза’, ‘Катя’]\n",
        "Гость пришёл или ушёл? пришёл\n",
        "Имя гостя: Алекс\n",
        "Привет, Алекс!\n",
        "\n",
        "Сейчас на вечеринке 6 человек: [‘Петя’, ‘Ваня’, ‘Саша’, ‘Лиза’, ‘Катя’, ‘Алекс’]\n",
        "Гость пришёл или ушёл? пришёл\n",
        "Имя гостя: Гоша\n",
        "Прости, Гоша, но мест нет.\n",
        "\n",
        "Сейчас на вечеринке 6 человек: [‘Петя’, ‘Ваня’, ‘Саша’, ‘Лиза’, ‘Катя’, ‘Алекс’]\n",
        "Гость пришёл или ушёл? ушёл\n",
        "Имя гостя: Ваня\n",
        "Пока, Ваня!\n",
        "\n",
        "Сейчас на вечеринке 5 человек: [‘Петя’, ‘Саша’, ‘Лиза’, ‘Катя’,  ‘Алекс’]\n",
        "Гость пришёл или ушёл? Пора спать\n",
        "\n",
        "Вечеринка закончилась, все легли спать.\n"
      ],
      "metadata": {
        "id": "lY2w2tTJOm4D"
      }
    },
    {
      "cell_type": "code",
      "source": [
        "guests = ['Петя', 'Ваня', 'Саша', 'Лиза', 'Катя']\n",
        "\n",
        "print(\"Начало вечеринки!\")\n",
        "print(f\"Сейчас на вечеринке {len(guests)} человек: {guests}\")\n",
        "\n",
        "while True:\n",
        "    print()\n",
        "    action = input(\"Гость пришел или ушел? \").strip().lower()\n",
        "\n",
        "    if action == \"пора спать\":\n",
        "        break\n",
        "\n",
        "    if action == \"пришел\":\n",
        "        name = input(\"Имя гостя: \").strip()\n",
        "        if len(guests) < 6:\n",
        "            guests.append(name)\n",
        "            print(f\"Привет, {name}!\")\n",
        "        else:\n",
        "            print(f\"Прости, {name}, но мест нет.\")\n",
        "\n",
        "    elif action == \"ушел\":\n",
        "        name = input(\"Имя гостя: \").strip()\n",
        "        if name in guests:\n",
        "            guests.remove(name)\n",
        "            print(f\"Пока, {name}!\")\n",
        "        else:\n",
        "            print(f\"Гостя с именем {name} нет на вечеринке.\")\n",
        "\n",
        "    else:\n",
        "        print(\"Не понял команду. Используйте 'пришел', 'ушел' или 'Пора спать'\")\n",
        "        continue\n",
        "\n",
        "    print(f\"Сейчас на вечеринке {len(guests)} человек: {guests}\")\n",
        "\n",
        "print()\n",
        "print(\"Вечеринка закончилась, все легли спать.\")"
      ],
      "metadata": {
        "colab": {
          "base_uri": "https://localhost:8080/"
        },
        "id": "G-zpCQYbNCas",
        "outputId": "c68b848b-6717-4553-aa99-cfbdd1e99e1a"
      },
      "execution_count": 9,
      "outputs": [
        {
          "output_type": "stream",
          "name": "stdout",
          "text": [
            "Начало вечеринки!\n",
            "Сейчас на вечеринке 5 человек: ['Петя', 'Ваня', 'Саша', 'Лиза', 'Катя']\n",
            "\n",
            "Гость пришел или ушел? пришел\n",
            "Имя гостя: Егор\n",
            "Привет, Егор!\n",
            "Сейчас на вечеринке 6 человек: ['Петя', 'Ваня', 'Саша', 'Лиза', 'Катя', 'Егор']\n",
            "\n",
            "Гость пришел или ушел? Пришел\n",
            "Имя гостя: Даня\n",
            "Прости, Даня, но мест нет.\n",
            "Сейчас на вечеринке 6 человек: ['Петя', 'Ваня', 'Саша', 'Лиза', 'Катя', 'Егор']\n",
            "\n",
            "Гость пришел или ушел? ушел\n",
            "Имя гостя: Лиза\n",
            "Пока, Лиза!\n",
            "Сейчас на вечеринке 5 человек: ['Петя', 'Ваня', 'Саша', 'Катя', 'Егор']\n",
            "\n",
            "Гость пришел или ушел? ушел\n",
            "Имя гостя: Егор\n",
            "Пока, Егор!\n",
            "Сейчас на вечеринке 4 человек: ['Петя', 'Ваня', 'Саша', 'Катя']\n",
            "\n",
            "Гость пришел или ушел? Пора спать\n",
            "\n",
            "Вечеринка закончилась, все легли спать.\n"
          ]
        }
      ]
    },
    {
      "cell_type": "markdown",
      "source": [
        "Задача 5.\n",
        "Мы пишем приложение для удобного прослушивания музыки. У Вани есть список из девяти песен группы Depeche Mode. Каждая песня состоит из названия и продолжительности с точностью до долей минут:\n",
        "violator_songs = [\n",
        "    ['World in My Eyes', 4,86],\n",
        "    ['Sweetest Perfection', 4,43],\n",
        "    ['Personal Jesus', 4,56],\n",
        "    ['Halo', 4,9],\n",
        "    ['Waiting for the Night', 6,07],\n",
        "    ['Enjoy the Silence', 4,20],\n",
        "    ['Policy of Truth', 4,76],\n",
        "    ['Blue Dress', 4,29],\n",
        "    ['Clean', 5,83]\n",
        "]\n",
        "\n",
        "Из этого списка Ваня хочет выбрать N песен и закинуть их в особый плейлист с другими треками. И при этом ему важно, сколько времени в сумме эти N песен будут звучать.\n",
        "Напишите программу, которая запрашивает у пользователя количество песен из списка и затем названия этих песен, а на экран выводит общее время их звучания.\n"
      ],
      "metadata": {
        "id": "nc2kHMI_PE5B"
      }
    },
    {
      "cell_type": "code",
      "source": [
        "violator_songs = [\n",
        "    ['World in My Eyes', 4.86],\n",
        "    ['Sweetest Perfection', 4.43],\n",
        "    ['Personal Jesus', 4.56],\n",
        "    ['Halo', 4.9],\n",
        "    ['Waiting for the Night', 6.07],\n",
        "    ['Enjoy the Silence', 4.20],\n",
        "    ['Policy of Truth', 4.76],\n",
        "    ['Blue Dress', 4.29],\n",
        "    ['Clean', 5.83]\n",
        "]"
      ],
      "metadata": {
        "id": "_C6sYiE0OQUg"
      },
      "execution_count": 10,
      "outputs": []
    },
    {
      "cell_type": "code",
      "source": [
        "def calc_total_time(music_list: list) -> None:\n",
        "\n",
        "    cnt_songs = int(input('Сколько песен выбрать? '))\n",
        "    total_time = 0\n",
        "\n",
        "    for i in range(cnt_songs):\n",
        "        song_name = input(f'Название {i+1}-й песни: ')\n",
        "\n",
        "        found = False\n",
        "        for song in music_list:\n",
        "            if song[0] == song_name:\n",
        "                total_time += song[1]\n",
        "                print(f\"Песня '{song_name}' найдена, время: {song[1]} мин\")\n",
        "                found = True\n",
        "                break\n",
        "\n",
        "        if not found:\n",
        "            print(f\"Песня '{song_name}' не найдена в списке\")\n",
        "\n",
        "    print(f'\\nОбщее время звучания песен: {round(total_time,2)} минут')"
      ],
      "metadata": {
        "id": "cHdUx3-QPJfO"
      },
      "execution_count": 11,
      "outputs": []
    },
    {
      "cell_type": "code",
      "source": [
        "calc_total_time(violator_songs)"
      ],
      "metadata": {
        "colab": {
          "base_uri": "https://localhost:8080/"
        },
        "id": "3JdZp7FaRL_w",
        "outputId": "77ac1225-50c4-4972-c648-4d32b97cc4d6"
      },
      "execution_count": 12,
      "outputs": [
        {
          "output_type": "stream",
          "name": "stdout",
          "text": [
            "Сколько песен выбрать? 3\n",
            "Название 1-й песни: Halo\n",
            "Песня 'Halo' найдена, время: 4.9 мин\n",
            "Название 2-й песни: Enjoy the Silence\n",
            "Песня 'Enjoy the Silence' найдена, время: 4.2 мин\n",
            "Название 3-й песни: Clean\n",
            "Песня 'Clean' найдена, время: 5.83 мин\n",
            "\n",
            "Общее время звучания песен: 14.93 минут\n"
          ]
        }
      ]
    },
    {
      "cell_type": "markdown",
      "source": [
        "Задача 6. Даны два списка целых чисел, оба списка заполняются с клавиатуры. В первый список вводится три числа, во второй — семь чисел. Напишите программу, которая запрашивает у пользователя эти числа, затем расширяет первый список элементами второго и после этого оставляет в первом списке только уникальные элементы, то есть удаляет лишние повторы чисел. Условный оператор использовать нельзя.\n",
        "Пример:\n",
        "Введите 1-е число для первого списка: 1\n",
        "Введите 2-е число для первого списка: 2\n",
        "Введите 3-е число для первого списка: 3\n",
        "Введите 1-е число для второго списка: 2\n",
        "Введите 2-е число для второго списка: 4\n",
        "Введите 3-е число для второго списка: 6\n",
        "Введите 4-е число для второго списка: 3\n",
        "Введите 5-е число для второго списка: 3\n",
        "Введите 6-е число для второго списка: 2\n",
        "Введите 7-е число для второго списка: 1\n",
        "\n",
        "Первый список: [1, 2, 3]\n",
        "Второй список: [2, 4, 6, 3, 3, 2, 1]\n",
        "\n",
        "Новый первый список с уникальными элементами: [4, 6, 3, 2, 1]\n"
      ],
      "metadata": {
        "id": "LquxV5ALT_3J"
      }
    },
    {
      "cell_type": "code",
      "source": [
        "list1 = []\n",
        "for i in range(3):\n",
        "    num = int(input(f\"Введите {i+1}-е число для первого списка: \"))\n",
        "    list1.append(num)\n",
        "\n",
        "list2 = []\n",
        "for i in range(7):\n",
        "    num = int(input(f\"Введите {i+1}-е число для второго списка: \"))\n",
        "    list2.append(num)\n",
        "\n",
        "print(f\"\\nПервый список: {list1}\")\n",
        "print(f\"Второй список: {list2}\")\n",
        "\n",
        "list1.extend(list2)\n",
        "\n",
        "seen = set()\n",
        "unique_list = []\n",
        "2\n",
        "for num in reversed(list1):\n",
        "    if num not in seen:\n",
        "        seen.add(num)\n",
        "        unique_list.append(num)\n",
        "\n",
        "unique_list.reverse()\n",
        "\n",
        "print(f\"Новый первый список с уникальными элементами: {unique_list}\")"
      ],
      "metadata": {
        "colab": {
          "base_uri": "https://localhost:8080/"
        },
        "id": "XDyz9BtNWHYg",
        "outputId": "b712034e-8b49-40d9-b28f-9de5acebcd12"
      },
      "execution_count": 13,
      "outputs": [
        {
          "output_type": "stream",
          "name": "stdout",
          "text": [
            "Введите 1-е число для первого списка: 1\n",
            "Введите 2-е число для первого списка: 2\n",
            "Введите 3-е число для первого списка: 3\n",
            "Введите 1-е число для второго списка: 2\n",
            "Введите 2-е число для второго списка: 4\n",
            "Введите 3-е число для второго списка: 6\n",
            "Введите 4-е число для второго списка: 3\n",
            "Введите 5-е число для второго списка: 3\n",
            "Введите 6-е число для второго списка: 2\n",
            "Введите 7-е число для второго списка: 1\n",
            "\n",
            "Первый список: [1, 2, 3]\n",
            "Второй список: [2, 4, 6, 3, 3, 2, 1]\n",
            "Новый первый список с уникальными элементами: [4, 6, 3, 2, 1]\n"
          ]
        }
      ]
    },
    {
      "cell_type": "markdown",
      "source": [
        "Задача 7.\n",
        "Частная контора даёт в прокат ролики самых разных размеров. Человек может надеть ролики любого размера, которые не меньше размера его ноги.\n",
        "Пользователь вводит два списка размеров: N размеров коньков и K размеров ног людей. Реализуйте код, который определяет, какое наибольшее число человек сможет одновременно взять ролики и пойти покататься."
      ],
      "metadata": {
        "id": "oTaasngNj1NS"
      }
    },
    {
      "cell_type": "code",
      "source": [
        "def max_people_with_skates(\n",
        "    skates,\n",
        "    people) -> None:\n",
        "    skates.sort()\n",
        "    people.sort()\n",
        "\n",
        "    cnt = 0\n",
        "    i = 0\n",
        "    j = 0\n",
        "\n",
        "    while i < len(skates) and j < len(people):\n",
        "\n",
        "        if skates[i] >= people[j]:\n",
        "            cnt += 1\n",
        "            i += 1\n",
        "            j += 1\n",
        "        else:\n",
        "            i += 1\n",
        "\n",
        "    return cnt\n",
        "\n",
        "n = int(input(\"Кол-во коньков: \"))\n",
        "skates = []\n",
        "for i in range(n):\n",
        "    size = int(input(f\"Размер {i+1}-й пары: \"))\n",
        "    skates.append(size)\n",
        "\n",
        "k = int(input(\"Кол-во людей: \"))\n",
        "people = []\n",
        "for i in range(k):\n",
        "    size = int(input(f\"Размер ноги {i+1}-го человека: \"))\n",
        "    people.append(size)\n",
        "\n",
        "result = max_people_with_skates(skates, people)\n",
        "print(f\"Наибольшее кол-во людей, которые могут взять ролики: {result}\")"
      ],
      "metadata": {
        "colab": {
          "base_uri": "https://localhost:8080/"
        },
        "id": "m7ybqj34YBWV",
        "outputId": "0cb4634c-d767-4992-dfd7-bc8b24d80e36"
      },
      "execution_count": 86,
      "outputs": [
        {
          "output_type": "stream",
          "name": "stdout",
          "text": [
            "Кол-во коньков: 4\n",
            "Размер 1-й пары: 41\n",
            "Размер 2-й пары: 40\n",
            "Размер 3-й пары: 39\n",
            "Размер 4-й пары: 42\n",
            "Кол-во людей: 3\n",
            "Размер ноги 1-го человека: 42\n",
            "Размер ноги 2-го человека: 41\n",
            "Размер ноги 3-го человека: 42\n",
            "Наибольшее кол-во людей, которые могут взять ролики: 2\n"
          ]
        }
      ]
    },
    {
      "cell_type": "code",
      "source": [
        "def counting_rhyme() -> None:\n",
        "    n = int(input(\"Кол-во человек: \"))\n",
        "    k = int(input(\"Какое число в считалке? \"))\n",
        "    print(f\"Значит, выбывает каждый {k}-й человек\\n\")\n",
        "\n",
        "    people = list(range(1, n + 1))\n",
        "    current_index = 0\n",
        "\n",
        "    while len(people) > 1:\n",
        "        print(f\"Текущий круг людей: {people}\")\n",
        "        print(f\"Начало счёта с номера {people[current_index]}\")\n",
        "\n",
        "        # Вычисляем индекс выбывающего\n",
        "        current_index = (current_index + k - 1) % len(people)\n",
        "\n",
        "        print(f\"Выбывает человек под номером {people[current_index]}\\n\")\n",
        "\n",
        "        # Удаляем выбывшего\n",
        "        people.pop(current_index)\n",
        "\n",
        "        # Если удалили последнего, начинаем с начала\n",
        "        if current_index >= len(people):\n",
        "            current_index = 0\n",
        "\n",
        "    print(f\"Остался человек под номером {people[0]}\")"
      ],
      "metadata": {
        "id": "Qi4DSBr2fpU6"
      },
      "execution_count": 14,
      "outputs": []
    },
    {
      "cell_type": "code",
      "source": [
        "counting_rhyme()"
      ],
      "metadata": {
        "colab": {
          "base_uri": "https://localhost:8080/"
        },
        "id": "jbj_ceFHgmjp",
        "outputId": "b0620fd8-0ca5-4dc5-94f7-cd160b2f3409"
      },
      "execution_count": 15,
      "outputs": [
        {
          "output_type": "stream",
          "name": "stdout",
          "text": [
            "Кол-во человек: 5\n",
            "Какое число в считалке? 7\n",
            "Значит, выбывает каждый 7-й человек\n",
            "\n",
            "Текущий круг людей: [1, 2, 3, 4, 5]\n",
            "Начало счёта с номера 1\n",
            "Выбывает человек под номером 2\n",
            "\n",
            "Текущий круг людей: [1, 3, 4, 5]\n",
            "Начало счёта с номера 3\n",
            "Выбывает человек под номером 5\n",
            "\n",
            "Текущий круг людей: [1, 3, 4]\n",
            "Начало счёта с номера 1\n",
            "Выбывает человек под номером 1\n",
            "\n",
            "Текущий круг людей: [3, 4]\n",
            "Начало счёта с номера 3\n",
            "Выбывает человек под номером 3\n",
            "\n",
            "Остался человек под номером 4\n"
          ]
        }
      ]
    },
    {
      "cell_type": "code",
      "source": [
        "def friends_balance():\n",
        "    n = int(input(\"Кол-во друзей: \"))\n",
        "    k = int(input(\"Долговых расписок: \"))\n",
        "\n",
        "    # Создаем массив для баланса каждого друга\n",
        "    balance = [0] * (n + 1)\n",
        "\n",
        "    for i in range(k):\n",
        "        print(f\"\\n{i+1}-я расписка\")\n",
        "        debtor = int(input(\"Кому: \"))\n",
        "        creditor = int(input(\"От кого: \"))\n",
        "        amount = int(input(\"Сколько: \"))\n",
        "\n",
        "        # Должник должен отдать, кредитор должен получить\n",
        "        balance[debtor] -= amount\n",
        "        balance[creditor] += amount\n",
        "\n",
        "    print(\"\\nБаланс друзей:\")\n",
        "    for i in range(1, n + 1):\n",
        "        print(f\"{i}: {balance[i]}\")\n"
      ],
      "metadata": {
        "id": "y1GOOjqQgo90"
      },
      "execution_count": 16,
      "outputs": []
    },
    {
      "cell_type": "code",
      "source": [
        "friends_balance()"
      ],
      "metadata": {
        "colab": {
          "base_uri": "https://localhost:8080/"
        },
        "id": "AdVRn7qQhqKR",
        "outputId": "e7dc60ef-b8d7-4fae-e6c5-66d926e0af1b"
      },
      "execution_count": 17,
      "outputs": [
        {
          "output_type": "stream",
          "name": "stdout",
          "text": [
            "Кол-во друзей: 3\n",
            "Долговых расписок: 1\n",
            "\n",
            "1-я расписка\n",
            "Кому: 1\n",
            "От кого: 2\n",
            "Сколько: 100\n",
            "\n",
            "Баланс друзей:\n",
            "1: -100\n",
            "2: 100\n",
            "3: 0\n"
          ]
        }
      ]
    },
    {
      "cell_type": "code",
      "source": [
        "def make_symmetric():\n",
        "    n = int(input(\"Кол-во чисел: \"))\n",
        "    sequence = []\n",
        "\n",
        "    for i in range(n):\n",
        "        num = int(input(\"Число: \"))\n",
        "        sequence.append(num)\n",
        "\n",
        "    print(f\"Последовательность: {sequence}\")\n",
        "\n",
        "    for i in range(n):\n",
        "        sub_sequence = sequence[i:]\n",
        "        if sub_sequence == sub_sequence[::-1]:\n",
        "\n",
        "            numbers_to_add = sequence[:i][::-1]\n",
        "            print(f\"Нужно приписать чисел: {len(numbers_to_add)}\")\n",
        "            print(f\"Сами числа: {numbers_to_add}\")\n",
        "            return\n",
        "\n",
        "\n",
        "    numbers_to_add = sequence[:-1][::-1]\n",
        "    print(f\"Нужно приписать чисел: {len(numbers_to_add)}\")\n",
        "    print(f\"Сами числа: {numbers_to_add}\")"
      ],
      "metadata": {
        "id": "gFFrjwKFhr-H"
      },
      "execution_count": 18,
      "outputs": []
    },
    {
      "cell_type": "code",
      "source": [
        "make_symmetric()"
      ],
      "metadata": {
        "colab": {
          "base_uri": "https://localhost:8080/"
        },
        "id": "nFvY2Dp8iV2f",
        "outputId": "9b26d4ba-1e26-4151-be99-982911987101"
      },
      "execution_count": 23,
      "outputs": [
        {
          "output_type": "stream",
          "name": "stdout",
          "text": [
            "Кол-во чисел: 5\n",
            "Число: 1\n",
            "Число: 2\n",
            "Число: 3\n",
            "Число: 4\n",
            "Число: 5\n",
            "Последовательность: [1, 2, 3, 4, 5]\n",
            "Нужно приписать чисел: 4\n",
            "Сами числа: [4, 3, 2, 1]\n"
          ]
        }
      ]
    },
    {
      "cell_type": "code",
      "source": [
        "1"
      ],
      "metadata": {
        "id": "WOvlxAekiWxM"
      },
      "execution_count": null,
      "outputs": []
    }
  ]
}